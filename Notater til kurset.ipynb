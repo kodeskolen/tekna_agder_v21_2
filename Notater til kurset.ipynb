{
 "cells": [
  {
   "cell_type": "markdown",
   "metadata": {
    "slideshow": {
     "slide_type": "slide"
    }
   },
   "source": [
    "# Introduksjonskurs i programmering, dag 1\n",
    "## med fokus på data-analyse\n"
   ]
  },
  {
   "cell_type": "code",
   "execution_count": 3,
   "metadata": {
    "slideshow": {
     "slide_type": "slide"
    }
   },
   "outputs": [
    {
     "name": "stdout",
     "output_type": "stream",
     "text": [
      "Velkommen til kurs i programmering 2021-04-22\n"
     ]
    }
   ],
   "source": [
    "import datetime\n",
    "print(f\"Velkommen til kurs i programmering {datetime.date.today()}\")"
   ]
  },
  {
   "cell_type": "markdown",
   "metadata": {
    "slideshow": {
     "slide_type": "slide"
    }
   },
   "source": [
    "## Forventninger og innhold \n",
    "- du kan litt programmering på forhånd\n",
    "- fortvil ikke om det blir vanskelig, for det er da vi lærer\n",
    "- kreativitet trengs til programmering også\n",
    "- mengdetrening gjør mester"
   ]
  },
  {
   "cell_type": "markdown",
   "metadata": {},
   "source": [
    "## Temaer for dag 1\n",
    "- Jupyter Notebooks\n",
    "- Oppslagsverk\n",
    "- Litt om Funksjoner\n",
    "- Introduksjon til Pandas-regneark"
   ]
  },
  {
   "cell_type": "markdown",
   "metadata": {
    "slideshow": {
     "slide_type": "slide"
    }
   },
   "source": [
    "# Jupyter Notebooks\n",
    "\n",
    "Vi har to typer celler: kodeceller og tekstceller (markdownceller). Dette er en markdown-celle, ved å dobbeltrykke på denne cellen kan du redigere teksten i den.\n",
    "\n",
    "Trykk på \"+\"-tegnet for å lage en ny celle. Vi kan markere en celle ved å trykke på den en gang. Da får vi en blå strek til venstre for cellen. Vi kan da endre om cellen skal være en Markdowncelle eller en kodecelle i nedtrekks-menyen over.\n",
    "\n",
    "I kodecellen nedenfor har vi et enkelt \"Hello World\"-program.\n"
   ]
  },
  {
   "cell_type": "code",
   "execution_count": 1,
   "metadata": {},
   "outputs": [
    {
     "name": "stdout",
     "output_type": "stream",
     "text": [
      "Hei Verden!\n"
     ]
    }
   ],
   "source": [
    "print(\"Hei Verden!\")"
   ]
  },
  {
   "cell_type": "markdown",
   "metadata": {},
   "source": [
    "Python kan huske variabler som vi definerer i kodecellene, som i de to neste cellene, hvor vi i den første definerer variabelen \"gjenstand\", og i den andre så printer vi variabelen."
   ]
  },
  {
   "cell_type": "code",
   "execution_count": 2,
   "metadata": {},
   "outputs": [],
   "source": [
    "gjenstand = \"datamaskin\""
   ]
  },
  {
   "cell_type": "code",
   "execution_count": 3,
   "metadata": {},
   "outputs": [
    {
     "name": "stdout",
     "output_type": "stream",
     "text": [
      "datamaskin\n"
     ]
    }
   ],
   "source": [
    "print(gjenstand)"
   ]
  },
  {
   "cell_type": "markdown",
   "metadata": {},
   "source": [
    "Det er viktig å være obs på rekkefølgen som cellene kjøres i. Vi kan se på tallet til venstre for kodecellen for å se hvilken rekkefølge koden har kjørt i.\n",
    "I neste celle endrer vi variabelen \"gjenstand\". Hvis vi nå går tilbake å printer den vil vi ikke få samme resultat, siden vi overskrev hva som opprinnelig lå i variabelen. Det som printes vil da altså være avhengig av den siste cellen vi kjørte, uavhengig av hvilken rekkefølge cellene i Notebooken er i."
   ]
  },
  {
   "cell_type": "code",
   "execution_count": 4,
   "metadata": {},
   "outputs": [],
   "source": [
    "gjenstand = \"skjerm\""
   ]
  },
  {
   "cell_type": "markdown",
   "metadata": {},
   "source": [
    "Hvis en kodecelle henger seg opp kan vi bruke \"stopp\"-knapppen over til å stoppe den. Dersom det ikke fungerer kan vi restarte notebooken ved å trykke \"Kernel\" -> \"Restart\". Merk at vi vil da miste alle variablene våre og må kjøre alle cellene på ny!"
   ]
  },
  {
   "cell_type": "markdown",
   "metadata": {
    "slideshow": {
     "slide_type": "slide"
    }
   },
   "source": [
    "## Oppslagsverk \n",
    "- engelsk \"dictionary\"\n",
    "- det er en datatype som vi bruker til å oppbevare data\n",
    "- dataen som er lagret i oppslagsverket kaller vi for verdier\n",
    "- verdiene er lagret med en nøkkel, og vi henter dem ut ved å bruke nøkkelen"
   ]
  },
  {
   "cell_type": "markdown",
   "metadata": {
    "slideshow": {
     "slide_type": "subslide"
    }
   },
   "source": [
    "![](oppslagsverk_ill.png)"
   ]
  },
  {
   "cell_type": "markdown",
   "metadata": {
    "slideshow": {
     "slide_type": "subslide"
    }
   },
   "source": [
    "Vi kan definere ett oppslagsverk slik:"
   ]
  },
  {
   "cell_type": "code",
   "execution_count": 5,
   "metadata": {
    "slideshow": {
     "slide_type": "notes"
    }
   },
   "outputs": [],
   "source": [
    "oppslagsverk = {\"a\":1,\"b\":2,\"c\":3}"
   ]
  },
  {
   "cell_type": "markdown",
   "metadata": {},
   "source": [
    "Her har vi en del elementer å gripe tak i.\n",
    "Det er viktig å huske:\n",
    "- Krølleparenteser rundt hele oppslagsverket\n",
    "- Vi har nøkler foran kolonet :, og verdier etter.\n",
    "- Nøklene er strenger og er omringet av fnutter\n",
    "\n",
    "Oppslagsverket gir en måte å oppbevare data på, hvor vi har litt mer kontroll på hva slags data vi har. Verdiene som er lagret i oppslagsverket er knyttet til nøkler, da kan vi for eksempel kategorisere dataene våre.\n"
   ]
  },
  {
   "cell_type": "markdown",
   "metadata": {
    "slideshow": {
     "slide_type": "-"
    }
   },
   "source": [
    "Egenskaper til dictionaries er blant annet:\n"
   ]
  },
  {
   "cell_type": "markdown",
   "metadata": {},
   "source": [
    "Vi kan se på hvilke nøklers som er i oppslagsverket:"
   ]
  },
  {
   "cell_type": "code",
   "execution_count": 7,
   "metadata": {},
   "outputs": [
    {
     "name": "stdout",
     "output_type": "stream",
     "text": [
      "I oppslagsverk har vi disse nøklene  ['a', 'b', 'c']\n"
     ]
    }
   ],
   "source": [
    "list(oppslagsverk)\n",
    "print(f\"I oppslagsverk har vi disse nøklene \" , list(oppslagsverk))"
   ]
  },
  {
   "cell_type": "markdown",
   "metadata": {},
   "source": [
    "Eller hvor mange verdier som er i oppslagsverket:"
   ]
  },
  {
   "cell_type": "code",
   "execution_count": 6,
   "metadata": {},
   "outputs": [
    {
     "name": "stdout",
     "output_type": "stream",
     "text": [
      "I oppslagsverket er det 3 antall verdier\n"
     ]
    }
   ],
   "source": [
    "len(oppslagsverk)\n",
    "print(f\"I oppslagsverket er det {len(oppslagsverk)} antall verdier\")"
   ]
  },
  {
   "cell_type": "markdown",
   "metadata": {},
   "source": [
    "For å lese ut verdier bruker vi hakeparenteser:\n",
    "Legg merke til at vi inne i f-strengen bruker enkle fnutter."
   ]
  },
  {
   "cell_type": "code",
   "execution_count": 8,
   "metadata": {},
   "outputs": [
    {
     "name": "stdout",
     "output_type": "stream",
     "text": [
      "For nøkkelen 'a' har vi verdien 1\n"
     ]
    }
   ],
   "source": [
    "oppslagsverk[\"a\"]\n",
    "print(f\"For nøkkelen 'a' har vi verdien {oppslagsverk['a']}\")"
   ]
  },
  {
   "cell_type": "markdown",
   "metadata": {},
   "source": [
    "Vi kan legge til nye verdier:"
   ]
  },
  {
   "cell_type": "code",
   "execution_count": 13,
   "metadata": {},
   "outputs": [
    {
     "name": "stdout",
     "output_type": "stream",
     "text": [
      "Vi legger til 'd' : 4\n"
     ]
    }
   ],
   "source": [
    "print(\"Vi legger til 'd' : 4\")\n",
    "oppslagsverk[\"d\"] = 4"
   ]
  },
  {
   "cell_type": "code",
   "execution_count": 14,
   "metadata": {},
   "outputs": [
    {
     "name": "stdout",
     "output_type": "stream",
     "text": [
      "Nå har vi nøklene  ['a', 'b', 'c', 'd']\n",
      "og 4 verdier\n"
     ]
    }
   ],
   "source": [
    "print(\"Nå har vi nøklene \", list(oppslagsverk))\n",
    "print(f\"og {len(oppslagsverk)} verdier\")"
   ]
  },
  {
   "cell_type": "markdown",
   "metadata": {},
   "source": [
    "Eller slette:"
   ]
  },
  {
   "cell_type": "code",
   "execution_count": 15,
   "metadata": {},
   "outputs": [
    {
     "name": "stdout",
     "output_type": "stream",
     "text": [
      "vi sletter 'd'\n",
      "Nå har vi nøklene  ['a', 'b', 'c']\n",
      "og 3 verdier\n"
     ]
    }
   ],
   "source": [
    "print(\"vi sletter 'd'\")\n",
    "del oppslagsverk[\"d\"]\n",
    "print(\"Nå har vi nøklene \", list(oppslagsverk))\n",
    "print(f\"og {len(oppslagsverk)} verdier\")"
   ]
  },
  {
   "cell_type": "markdown",
   "metadata": {},
   "source": [
    "Og vi kan sjekke om vi har en spesifikk nøkkel i oppslagsverket:"
   ]
  },
  {
   "cell_type": "code",
   "execution_count": 17,
   "metadata": {
    "slideshow": {
     "slide_type": "-"
    }
   },
   "outputs": [
    {
     "name": "stdout",
     "output_type": "stream",
     "text": [
      "True\n",
      "True\n"
     ]
    }
   ],
   "source": [
    "print(\"a\" in oppslagsverk)\n",
    "print(\"d\" not in oppslagsverk)"
   ]
  },
  {
   "cell_type": "markdown",
   "metadata": {
    "slideshow": {
     "slide_type": "slide"
    }
   },
   "source": [
    "## noen fallgruber\n",
    "- oppslagsverk er ikke nødvendigvis lagret i en gitt rekkefølge slik som lister!\n",
    "- vær konsekvent med bruk av \" eller ', inne i f-strenger må du bruke ' for å hente ut verdier fra oppslagsverket"
   ]
  },
  {
   "cell_type": "markdown",
   "metadata": {
    "slideshow": {
     "slide_type": "slide"
    }
   },
   "source": [
    "### Et litt mer avansert eksempel på doble oppslagsverk\n",
    "Her har vi definert 4 oppslagsverk med noen interessante verdier, og lagt disse oppslagsverkene inne i enda et oppslagsverk."
   ]
  },
  {
   "cell_type": "code",
   "execution_count": 20,
   "metadata": {
    "slideshow": {
     "slide_type": "subslide"
    }
   },
   "outputs": [],
   "source": [
    "B737 = {\"navn\":\"Boeing 737-800\", \"passasjerer\":189, \"vingespenn\":34.3, \"tow\":79 }\n",
    "A320 = {\"navn\":\"Airbus A320\", \"passasjerer\":150, \"vingespenn\":35.8, \"tow\":78 }\n",
    "B747 = {\"navn\":\"Boeing 747-8\",\"passasjerer\":467, \"vingespenn\":68.4, \"tow\":448 }\n",
    "E190 = {\"navn\":\"Embraer E190\", \"passasjerer\":114, \"vingespenn\":28.7, \"tow\":51}\n",
    "\n",
    "\n",
    "flymodeller = {\n",
    "    \"B737\":B737,\n",
    "    \"A320\":A320,\n",
    "    \"B747\":B747,\n",
    "    \"E190\":E190\n",
    "}"
   ]
  },
  {
   "cell_type": "markdown",
   "metadata": {},
   "source": [
    "Her henter vi ut verdier på samme måte"
   ]
  },
  {
   "cell_type": "code",
   "execution_count": 21,
   "metadata": {},
   "outputs": [
    {
     "data": {
      "text/plain": [
       "{'navn': 'Airbus A320', 'passasjerer': 150, 'vingespenn': 35.8, 'tow': 78}"
      ]
     },
     "execution_count": 21,
     "metadata": {},
     "output_type": "execute_result"
    }
   ],
   "source": [
    "flymodeller[\"A320\"]"
   ]
  },
  {
   "cell_type": "markdown",
   "metadata": {},
   "source": [
    "Siden dette igjen er et oppslagsverk må vi bruke to hakeparenteser for å hente ut for eksempel vingespennet til 737."
   ]
  },
  {
   "cell_type": "code",
   "execution_count": 22,
   "metadata": {},
   "outputs": [
    {
     "data": {
      "text/plain": [
       "34.3"
      ]
     },
     "execution_count": 22,
     "metadata": {},
     "output_type": "execute_result"
    }
   ],
   "source": [
    "flymodeller[\"B737\"][\"vingespenn\"]"
   ]
  },
  {
   "cell_type": "markdown",
   "metadata": {},
   "source": [
    "Tilslutt kan vi sette sammen litt mer av det vi kjenner om programmering til å finne ut gjennomsnittlig vingespenn"
   ]
  },
  {
   "cell_type": "code",
   "execution_count": 24,
   "metadata": {
    "slideshow": {
     "slide_type": "notes"
    }
   },
   "outputs": [
    {
     "name": "stdout",
     "output_type": "stream",
     "text": [
      "Gjennomsnittlig vingespenn = 41.8 m\n"
     ]
    }
   ],
   "source": [
    "vingespenn_gj = 0\n",
    "for fly in flymodeller:\n",
    "    #print fly?\n",
    "    vingespenn_gj += flymodeller[fly][\"vingespenn\"]\n",
    "vingespenn_gj/=len(flymodeller)\n",
    "\n",
    "print(f\"Gjennomsnittlig vingespenn = {vingespenn_gj} m\")"
   ]
  },
  {
   "cell_type": "markdown",
   "metadata": {
    "slideshow": {
     "slide_type": "slide"
    }
   },
   "source": [
    "# Funksjoner\n",
    "- funksjoner er en måte å samle en bit med kode som tilsammen gjør en konkret oppgave\n",
    "- dette gir oss kode som er lettere å lese og bruke\n",
    "- vi har allerede brukt mange funksjoner: print, input, len\n",
    "- la oss først se litt på bruken av funksjoner som vi allerede kjenner til\n",
    "- tre viktige begreper: argument, bruke, returnere\n"
   ]
  },
  {
   "cell_type": "markdown",
   "metadata": {},
   "source": [
    "Funksjoner pleier ofte å returnere en verdi som vi kan jobbe videre med. Ett eksempel på en slik funksjon er len-funksjonen. Den returnerer antall elementer i lister eller oppslagsverk, slik at vi slipper å skrive mye kode for å telle selv.\n",
    "\n",
    "Funksjoner har også argumenter, som er verdiene som vi sender med funksjonen. Disse står i parentes etter navnet på funksjonen. I tilfellet nedenfor, må vi fortelle len-funksjonen hva den skal finne lengden av. "
   ]
  },
  {
   "cell_type": "code",
   "execution_count": 27,
   "metadata": {
    "slideshow": {
     "slide_type": "subslide"
    }
   },
   "outputs": [
    {
     "name": "stdout",
     "output_type": "stream",
     "text": [
      "4\n"
     ]
    }
   ],
   "source": [
    "x = len(flymodeller)\n",
    "print(x)"
   ]
  },
  {
   "cell_type": "markdown",
   "metadata": {
    "slideshow": {
     "slide_type": "subslide"
    }
   },
   "source": [
    "En annen funksjon vi ofte bruker er print-funksjonen. Den returner ikke noe, som vi ser når vi printer \"x\""
   ]
  },
  {
   "cell_type": "code",
   "execution_count": 28,
   "metadata": {
    "slideshow": {
     "slide_type": "notes"
    }
   },
   "outputs": [
    {
     "name": "stdout",
     "output_type": "stream",
     "text": [
      "Hei verden!\n",
      "Hei verden\n",
      "None\n"
     ]
    }
   ],
   "source": [
    "print(\"Hei verden!\")\n",
    "x = print(\"Hei verden\")\n",
    "print(x)"
   ]
  },
  {
   "cell_type": "markdown",
   "metadata": {},
   "source": [
    "Funksjoner kan også ta inn det som vi kaller standardargumenter eller \"keyword arguments\".\n",
    "Dette er verdier som har en standardverdi som funksjoner bruker dersom vi ikke sier at den skal bruke noe annet.\n",
    "For eksempel spesifiserer vi ikke alltid at print-funskjonen skal sette et linjeskift på slutten av teksten den printer hver gang. Legg merke til hva som er forskjellen på disse to cellene."
   ]
  },
  {
   "cell_type": "code",
   "execution_count": 29,
   "metadata": {},
   "outputs": [
    {
     "name": "stdout",
     "output_type": "stream",
     "text": [
      "Jeg kommer på første linje i utskriften\n",
      "Jeg kommer på linjen under!\n",
      "Jeg kommmer også på linjen under!\n"
     ]
    }
   ],
   "source": [
    "print(\"Jeg kommer på første linje i utskriften\")\n",
    "print(\"Jeg kommer på linjen under!\")\n",
    "print(\"Jeg kommmer også på linjen under!\")"
   ]
  },
  {
   "cell_type": "code",
   "execution_count": 30,
   "metadata": {},
   "outputs": [
    {
     "name": "stdout",
     "output_type": "stream",
     "text": [
      "Jeg kommer på første linje, og slutter med to linjeskift\n",
      "\n",
      "Jeg kommer to linjer under og slutter uten noen linjeskift. Oi, jeg kommer visst på samme linje!\n"
     ]
    }
   ],
   "source": [
    "print(\"Jeg kommer på første linje, og slutter med to linjeskift\", end=\"\\n\\n\")\n",
    "print(\"Jeg kommer to linjer under og slutter uten noen linjeskift. \", end=\"\")\n",
    "print(\"Oi, jeg kommer visst på samme linje!\")"
   ]
  },
  {
   "cell_type": "markdown",
   "metadata": {
    "slideshow": {
     "slide_type": "slide"
    }
   },
   "source": [
    "## Hvordan kan vi lage våre egne funksjoner?\n",
    "- la oss lage en funksjon som gjør om fra fot til meter"
   ]
  },
  {
   "cell_type": "code",
   "execution_count": 2,
   "metadata": {
    "slideshow": {
     "slide_type": "notes"
    }
   },
   "outputs": [],
   "source": [
    "#når vi skal lage en funksjon starter vi alltid med ordet \"def\" og deretter navnet på funksjonen.\n",
    "#navnet er som regel noe som har noe med hva funksjonen skal gjøre\n",
    "#vi har også et argument\n",
    "def fot_til_meter(lengde_i_fot):\n",
    "    #inne i funksjonen har vi variabelen \"lengde_i_fot\" som funksjonen er definert ved. Når vi bruker funksjonen \n",
    "    #vil denne få en verdi\n",
    "    \n",
    "    #la oss implementere hva funksjonen skal gjøre\n",
    "    lengde_i_meter = lengde_i_fot*0.3048\n",
    "    \n",
    "    #og printe verdien\n",
    "    print(f\"Lengden {lengde_i_fot} fot er {lengde_i_meter} meter.\")\n"
   ]
  },
  {
   "cell_type": "markdown",
   "metadata": {},
   "source": [
    "I cellen over \"definerte\" vi funksjonen. Vi fortalte altså python hva den skal gjøre dersom jeg bruker funksjonen.\n",
    "I neste celle bruker jeg funksjonen."
   ]
  },
  {
   "cell_type": "code",
   "execution_count": 33,
   "metadata": {},
   "outputs": [
    {
     "name": "stdout",
     "output_type": "stream",
     "text": [
      "Lengden 10 fot er 3.048 meter.\n"
     ]
    }
   ],
   "source": [
    "#vi prøver funksjonen vår\n",
    "fot_til_meter(10) #hva er 10 fot i meter?"
   ]
  },
  {
   "cell_type": "markdown",
   "metadata": {
    "slideshow": {
     "slide_type": "notes"
    }
   },
   "source": [
    "Hva hvis vi vil bruke verdien som funksjonen regner ut videre? Da trenger vi \"return\"."
   ]
  },
  {
   "cell_type": "code",
   "execution_count": 4,
   "metadata": {
    "slideshow": {
     "slide_type": "notes"
    }
   },
   "outputs": [],
   "source": [
    "def fot_til_meter(lengde_i_fot):\n",
    "    lengde_i_meter = lengde_i_fot*0.3048\n",
    "    \n",
    "    print(f\"Lengden {lengde_i_fot} fot er {lengde_i_meter} meter.\")\n",
    "    \n",
    "    #legger til\n",
    "    return lengde_i_meter\n"
   ]
  },
  {
   "cell_type": "code",
   "execution_count": 3,
   "metadata": {},
   "outputs": [
    {
     "name": "stdout",
     "output_type": "stream",
     "text": [
      "Lengden 30000 fot er 9144.0 meter.\n",
      "Nå kan vi jobbe videre med lengde = None\n"
     ]
    }
   ],
   "source": [
    "#kan vi bruke \"lengde_i_meter\" utenfor funksjonen?\n",
    "#lengde_i_meter\n",
    "lengde = fot_til_meter(30_000)\n",
    "print(f\"Nå kan vi jobbe videre med lengde = {lengde}\")"
   ]
  },
  {
   "cell_type": "markdown",
   "metadata": {},
   "source": [
    "Nå har vi altså sagt at funksjonen skal returnere verdien den regnet ut, slik at vi lagre den i en variabel og jobbe videre med den."
   ]
  },
  {
   "cell_type": "markdown",
   "metadata": {
    "slideshow": {
     "slide_type": "slide"
    }
   },
   "source": [
    "La oss se på hvordan standardargumenter (\"keyword arguments\") kan defineres."
   ]
  },
  {
   "cell_type": "code",
   "execution_count": 37,
   "metadata": {
    "slideshow": {
     "slide_type": "notes"
    }
   },
   "outputs": [],
   "source": [
    "def fot_til_meter(lengde_i_fot=1): # liten endring her!\n",
    "    lengde_i_meter = lengde_i_fot*0.3048\n",
    "    \n",
    "    print(f\"Lengden {lengde_i_fot} fot er {lengde_i_meter} meter.\")\n",
    "    \n",
    "    return lengde_i_meter\n"
   ]
  },
  {
   "cell_type": "code",
   "execution_count": 38,
   "metadata": {},
   "outputs": [
    {
     "name": "stdout",
     "output_type": "stream",
     "text": [
      "Lengden 1 fot er 0.3048 meter.\n",
      "Lengden 3 fot er 0.9144000000000001 meter.\n"
     ]
    },
    {
     "data": {
      "text/plain": [
       "0.9144000000000001"
      ]
     },
     "execution_count": 38,
     "metadata": {},
     "output_type": "execute_result"
    }
   ],
   "source": [
    "#nå kan vi kalle på funksjonen uten å nødvendigvis spesifisere \"lengde_i_fot\"-argumentet, da tar den standardverdien\n",
    "fot_til_meter()\n",
    "#men vi kan fremdeles endre\n",
    "fot_til_meter(3)\n"
   ]
  },
  {
   "cell_type": "markdown",
   "metadata": {
    "slideshow": {
     "slide_type": "slide"
    }
   },
   "source": [
    "# Pandas - regneark (\"dataframes\")\n",
    "- et veldig sterkt og fleksibelt verktøy for å behandle små og store mengder med data\n",
    "- sammenlignbart med excel\n",
    "- vi kan lagre og representere data på en effektiv måte\n",
    "- vi får fleksibiliteten som følger med python"
   ]
  },
  {
   "cell_type": "markdown",
   "metadata": {
    "slideshow": {
     "slide_type": "slide"
    }
   },
   "source": [
    "## Hva kan vi gjøre med Pandas?\n",
    "- hente ut og filtrere nyttig informasjon fra mye data \n",
    "- mange funksjoner er allerede implementert slik at vi slipper mye arbeid\n",
    "- svært god integrasjon med biblioteket \"plotly\" som kan brukes til å visualisere\n",
    "- ikke overbevist? La oss kode :)"
   ]
  },
  {
   "cell_type": "markdown",
   "metadata": {},
   "source": [
    "Vi har oppslagsverket ovenfra."
   ]
  },
  {
   "cell_type": "code",
   "execution_count": 39,
   "metadata": {
    "slideshow": {
     "slide_type": "subslide"
    }
   },
   "outputs": [],
   "source": [
    "B737 = {\"navn\":\"Boeing 737-800\", \"passasjerer\":189, \"vingespenn\":34.3, \"tow\":79 }\n",
    "A320 = {\"navn\":\"Airbus A320\", \"passasjerer\":150, \"vingespenn\":35.8, \"tow\":78 }\n",
    "B747 = {\"navn\":\"Boeing 747-8\",\"passasjerer\":467, \"vingespenn\":68.4, \"tow\":448 }\n",
    "E190 = {\"navn\":\"Embraer E190\", \"passasjerer\":114, \"vingespenn\":28.7, \"tow\":51}\n",
    "\n",
    "flymodeller = {\n",
    "    \"B737\":B737,\n",
    "    \"A320\":A320,\n",
    "    \"B747\":B747,\n",
    "    \"E190\":E190\n",
    "}"
   ]
  },
  {
   "cell_type": "markdown",
   "metadata": {
    "slideshow": {
     "slide_type": "subslide"
    }
   },
   "source": [
    "Dette kan vi gjøre om til et regneark."
   ]
  },
  {
   "cell_type": "code",
   "execution_count": 73,
   "metadata": {
    "slideshow": {
     "slide_type": "notes"
    }
   },
   "outputs": [],
   "source": [
    "#vi må importere pandas biblioteket:\n",
    "import pandas as pd\n",
    "\n",
    "#lage regnearket:\n",
    "fr = pd.DataFrame.from_dict(flymodeller,orient=\"index\") #orient index betyr as keys i mitt dict \n"
   ]
  },
  {
   "cell_type": "markdown",
   "metadata": {},
   "source": [
    "Vi kan nå se hvordan regne arket er lagret i python:"
   ]
  },
  {
   "cell_type": "code",
   "execution_count": 41,
   "metadata": {},
   "outputs": [
    {
     "data": {
      "text/html": [
       "<div>\n",
       "<style scoped>\n",
       "    .dataframe tbody tr th:only-of-type {\n",
       "        vertical-align: middle;\n",
       "    }\n",
       "\n",
       "    .dataframe tbody tr th {\n",
       "        vertical-align: top;\n",
       "    }\n",
       "\n",
       "    .dataframe thead th {\n",
       "        text-align: right;\n",
       "    }\n",
       "</style>\n",
       "<table border=\"1\" class=\"dataframe\">\n",
       "  <thead>\n",
       "    <tr style=\"text-align: right;\">\n",
       "      <th></th>\n",
       "      <th>navn</th>\n",
       "      <th>passasjerer</th>\n",
       "      <th>vingespenn</th>\n",
       "      <th>tow</th>\n",
       "    </tr>\n",
       "  </thead>\n",
       "  <tbody>\n",
       "    <tr>\n",
       "      <th>B737</th>\n",
       "      <td>Boeing 737-800</td>\n",
       "      <td>189</td>\n",
       "      <td>34.3</td>\n",
       "      <td>79</td>\n",
       "    </tr>\n",
       "    <tr>\n",
       "      <th>A320</th>\n",
       "      <td>Airbus A320</td>\n",
       "      <td>150</td>\n",
       "      <td>35.8</td>\n",
       "      <td>78</td>\n",
       "    </tr>\n",
       "    <tr>\n",
       "      <th>B747</th>\n",
       "      <td>Boeing 747-8</td>\n",
       "      <td>467</td>\n",
       "      <td>68.4</td>\n",
       "      <td>448</td>\n",
       "    </tr>\n",
       "    <tr>\n",
       "      <th>E190</th>\n",
       "      <td>Embraer E190</td>\n",
       "      <td>114</td>\n",
       "      <td>28.7</td>\n",
       "      <td>51</td>\n",
       "    </tr>\n",
       "  </tbody>\n",
       "</table>\n",
       "</div>"
      ],
      "text/plain": [
       "                navn  passasjerer  vingespenn  tow\n",
       "B737  Boeing 737-800          189        34.3   79\n",
       "A320     Airbus A320          150        35.8   78\n",
       "B747    Boeing 747-8          467        68.4  448\n",
       "E190    Embraer E190          114        28.7   51"
      ]
     },
     "execution_count": 41,
     "metadata": {},
     "output_type": "execute_result"
    }
   ],
   "source": [
    "fr"
   ]
  },
  {
   "cell_type": "markdown",
   "metadata": {
    "slideshow": {
     "slide_type": "slide"
    }
   },
   "source": [
    "### La oss se hva vi kan gjøre med Pandas regneark!\n",
    "- Nå kommer det ganske masse ulike ting på ganske kort tid!"
   ]
  },
  {
   "cell_type": "markdown",
   "metadata": {
    "slideshow": {
     "slide_type": "subslide"
    }
   },
   "source": [
    "Hente ut en kolonne"
   ]
  },
  {
   "cell_type": "code",
   "execution_count": 42,
   "metadata": {
    "slideshow": {
     "slide_type": "notes"
    }
   },
   "outputs": [
    {
     "data": {
      "text/plain": [
       "B737    34.3\n",
       "A320    35.8\n",
       "B747    68.4\n",
       "E190    28.7\n",
       "Name: vingespenn, dtype: float64"
      ]
     },
     "execution_count": 42,
     "metadata": {},
     "output_type": "execute_result"
    }
   ],
   "source": [
    "fr[\"vingespenn\"]"
   ]
  },
  {
   "cell_type": "markdown",
   "metadata": {
    "slideshow": {
     "slide_type": "subslide"
    }
   },
   "source": [
    "Hente ut rad, basert på navnet på raden"
   ]
  },
  {
   "cell_type": "code",
   "execution_count": 43,
   "metadata": {
    "slideshow": {
     "slide_type": "-"
    }
   },
   "outputs": [
    {
     "data": {
      "text/plain": [
       "navn           Boeing 737-800\n",
       "passasjerer               189\n",
       "vingespenn               34.3\n",
       "tow                        79\n",
       "Name: B737, dtype: object"
      ]
     },
     "execution_count": 43,
     "metadata": {},
     "output_type": "execute_result"
    }
   ],
   "source": [
    "fr.loc[\"B737\"]\n"
   ]
  },
  {
   "cell_type": "markdown",
   "metadata": {},
   "source": [
    "Hente ut rad, basert på indeksen (rekkefølgen) til raden"
   ]
  },
  {
   "cell_type": "code",
   "execution_count": 44,
   "metadata": {
    "slideshow": {
     "slide_type": "notes"
    }
   },
   "outputs": [
    {
     "data": {
      "text/plain": [
       "navn           Airbus A320\n",
       "passasjerer            150\n",
       "vingespenn            35.8\n",
       "tow                     78\n",
       "Name: A320, dtype: object"
      ]
     },
     "execution_count": 44,
     "metadata": {},
     "output_type": "execute_result"
    }
   ],
   "source": [
    "fr.iloc[1]"
   ]
  },
  {
   "cell_type": "markdown",
   "metadata": {
    "slideshow": {
     "slide_type": "subslide"
    }
   },
   "source": [
    "Vi kan se på hvillke kolonner vi har"
   ]
  },
  {
   "cell_type": "code",
   "execution_count": 45,
   "metadata": {
    "slideshow": {
     "slide_type": "notes"
    }
   },
   "outputs": [
    {
     "data": {
      "text/plain": [
       "Index(['navn', 'passasjerer', 'vingespenn', 'tow'], dtype='object')"
      ]
     },
     "execution_count": 45,
     "metadata": {},
     "output_type": "execute_result"
    }
   ],
   "source": [
    "fr.columns"
   ]
  },
  {
   "cell_type": "markdown",
   "metadata": {},
   "source": [
    "Og hva slags data de inneholder"
   ]
  },
  {
   "cell_type": "code",
   "execution_count": 48,
   "metadata": {
    "slideshow": {
     "slide_type": "subslide"
    }
   },
   "outputs": [
    {
     "data": {
      "text/plain": [
       "navn            object\n",
       "passasjerer      int64\n",
       "vingespenn     float64\n",
       "tow              int64\n",
       "dtype: object"
      ]
     },
     "execution_count": 48,
     "metadata": {},
     "output_type": "execute_result"
    }
   ],
   "source": [
    "fr.dtypes"
   ]
  },
  {
   "cell_type": "markdown",
   "metadata": {},
   "source": [
    "Vi kan enkelt finne interessante verdier:"
   ]
  },
  {
   "cell_type": "code",
   "execution_count": 49,
   "metadata": {
    "scrolled": true,
    "slideshow": {
     "slide_type": "notes"
    }
   },
   "outputs": [
    {
     "data": {
      "text/plain": [
       "passasjerer    230.0\n",
       "vingespenn      41.8\n",
       "tow            164.0\n",
       "dtype: float64"
      ]
     },
     "execution_count": 49,
     "metadata": {},
     "output_type": "execute_result"
    }
   ],
   "source": [
    "#Middelverdier\n",
    "fr.mean()"
   ]
  },
  {
   "cell_type": "code",
   "execution_count": 52,
   "metadata": {
    "slideshow": {
     "slide_type": "subslide"
    }
   },
   "outputs": [
    {
     "data": {
      "text/plain": [
       "navn           Airbus A320\n",
       "passasjerer            114\n",
       "vingespenn            28.7\n",
       "tow                     51\n",
       "dtype: object"
      ]
     },
     "execution_count": 52,
     "metadata": {},
     "output_type": "execute_result"
    }
   ],
   "source": [
    "#Max og minimumsverdier\n",
    "fr.max()\n",
    "fr.min()"
   ]
  },
  {
   "cell_type": "markdown",
   "metadata": {},
   "source": [
    "Hvis vi vil vite raden som en max eller min verdi befinner seg på kan vi bruke følgende:"
   ]
  },
  {
   "cell_type": "code",
   "execution_count": 57,
   "metadata": {
    "slideshow": {
     "slide_type": "notes"
    }
   },
   "outputs": [
    {
     "data": {
      "text/plain": [
       "'B747'"
      ]
     },
     "execution_count": 57,
     "metadata": {},
     "output_type": "execute_result"
    }
   ],
   "source": [
    "index_for_max_vingespenn = fr[\"vingespenn\"].idxmax()\n",
    "index_for_max_vingespenn"
   ]
  },
  {
   "cell_type": "markdown",
   "metadata": {},
   "source": [
    "Da kan vi hente ut den raden med størst vingespenn:"
   ]
  },
  {
   "cell_type": "code",
   "execution_count": 58,
   "metadata": {
    "slideshow": {
     "slide_type": "subslide"
    }
   },
   "outputs": [
    {
     "data": {
      "text/plain": [
       "navn           Boeing 747-8\n",
       "passasjerer             467\n",
       "vingespenn             68.4\n",
       "tow                     448\n",
       "Name: B747, dtype: object"
      ]
     },
     "execution_count": 58,
     "metadata": {},
     "output_type": "execute_result"
    }
   ],
   "source": [
    "fr.loc[index_for_max_vingespenn]"
   ]
  },
  {
   "cell_type": "markdown",
   "metadata": {},
   "source": [
    "Vi kan regne på verdiene i kolonnene:"
   ]
  },
  {
   "cell_type": "code",
   "execution_count": 59,
   "metadata": {},
   "outputs": [
    {
     "data": {
      "text/plain": [
       "B737     79000\n",
       "A320     78000\n",
       "B747    448000\n",
       "E190     51000\n",
       "Name: tow, dtype: int64"
      ]
     },
     "execution_count": 59,
     "metadata": {},
     "output_type": "execute_result"
    }
   ],
   "source": [
    "fr[\"tow\"]*1000"
   ]
  },
  {
   "cell_type": "markdown",
   "metadata": {},
   "source": [
    "Og lage nye kolonner"
   ]
  },
  {
   "cell_type": "code",
   "execution_count": 74,
   "metadata": {
    "scrolled": false,
    "slideshow": {
     "slide_type": "notes"
    }
   },
   "outputs": [
    {
     "data": {
      "text/html": [
       "<div>\n",
       "<style scoped>\n",
       "    .dataframe tbody tr th:only-of-type {\n",
       "        vertical-align: middle;\n",
       "    }\n",
       "\n",
       "    .dataframe tbody tr th {\n",
       "        vertical-align: top;\n",
       "    }\n",
       "\n",
       "    .dataframe thead th {\n",
       "        text-align: right;\n",
       "    }\n",
       "</style>\n",
       "<table border=\"1\" class=\"dataframe\">\n",
       "  <thead>\n",
       "    <tr style=\"text-align: right;\">\n",
       "      <th></th>\n",
       "      <th>navn</th>\n",
       "      <th>passasjerer</th>\n",
       "      <th>vingespenn</th>\n",
       "      <th>tow</th>\n",
       "      <th>tow_kg</th>\n",
       "    </tr>\n",
       "  </thead>\n",
       "  <tbody>\n",
       "    <tr>\n",
       "      <th>B737</th>\n",
       "      <td>Boeing 737-800</td>\n",
       "      <td>189</td>\n",
       "      <td>34.3</td>\n",
       "      <td>79</td>\n",
       "      <td>79000</td>\n",
       "    </tr>\n",
       "    <tr>\n",
       "      <th>A320</th>\n",
       "      <td>Airbus A320</td>\n",
       "      <td>150</td>\n",
       "      <td>35.8</td>\n",
       "      <td>78</td>\n",
       "      <td>78000</td>\n",
       "    </tr>\n",
       "    <tr>\n",
       "      <th>B747</th>\n",
       "      <td>Boeing 747-8</td>\n",
       "      <td>467</td>\n",
       "      <td>68.4</td>\n",
       "      <td>448</td>\n",
       "      <td>448000</td>\n",
       "    </tr>\n",
       "    <tr>\n",
       "      <th>E190</th>\n",
       "      <td>Embraer E190</td>\n",
       "      <td>114</td>\n",
       "      <td>28.7</td>\n",
       "      <td>51</td>\n",
       "      <td>51000</td>\n",
       "    </tr>\n",
       "  </tbody>\n",
       "</table>\n",
       "</div>"
      ],
      "text/plain": [
       "                navn  passasjerer  vingespenn  tow  tow_kg\n",
       "B737  Boeing 737-800          189        34.3   79   79000\n",
       "A320     Airbus A320          150        35.8   78   78000\n",
       "B747    Boeing 747-8          467        68.4  448  448000\n",
       "E190    Embraer E190          114        28.7   51   51000"
      ]
     },
     "execution_count": 74,
     "metadata": {},
     "output_type": "execute_result"
    }
   ],
   "source": [
    "fr[\"tow_kg\"] = fr[\"tow\"]*1000\n",
    "fr"
   ]
  },
  {
   "cell_type": "markdown",
   "metadata": {},
   "source": [
    "For å endre en enkelt verdi kan vi bruke .loc med \\[rad,kolonne\\]"
   ]
  },
  {
   "cell_type": "code",
   "execution_count": 61,
   "metadata": {},
   "outputs": [],
   "source": [
    "fr.loc[\"B737\",\"tow\"] = 79"
   ]
  },
  {
   "cell_type": "code",
   "execution_count": 62,
   "metadata": {},
   "outputs": [
    {
     "data": {
      "text/html": [
       "<div>\n",
       "<style scoped>\n",
       "    .dataframe tbody tr th:only-of-type {\n",
       "        vertical-align: middle;\n",
       "    }\n",
       "\n",
       "    .dataframe tbody tr th {\n",
       "        vertical-align: top;\n",
       "    }\n",
       "\n",
       "    .dataframe thead th {\n",
       "        text-align: right;\n",
       "    }\n",
       "</style>\n",
       "<table border=\"1\" class=\"dataframe\">\n",
       "  <thead>\n",
       "    <tr style=\"text-align: right;\">\n",
       "      <th></th>\n",
       "      <th>navn</th>\n",
       "      <th>passasjerer</th>\n",
       "      <th>vingespenn</th>\n",
       "      <th>tow</th>\n",
       "      <th>tow_kg</th>\n",
       "    </tr>\n",
       "  </thead>\n",
       "  <tbody>\n",
       "    <tr>\n",
       "      <th>B737</th>\n",
       "      <td>Boeing 737-800</td>\n",
       "      <td>189</td>\n",
       "      <td>34.3</td>\n",
       "      <td>79</td>\n",
       "      <td>79000</td>\n",
       "    </tr>\n",
       "    <tr>\n",
       "      <th>A320</th>\n",
       "      <td>Airbus A320</td>\n",
       "      <td>150</td>\n",
       "      <td>35.8</td>\n",
       "      <td>78</td>\n",
       "      <td>78000</td>\n",
       "    </tr>\n",
       "    <tr>\n",
       "      <th>B747</th>\n",
       "      <td>Boeing 747-8</td>\n",
       "      <td>467</td>\n",
       "      <td>68.4</td>\n",
       "      <td>448</td>\n",
       "      <td>448000</td>\n",
       "    </tr>\n",
       "    <tr>\n",
       "      <th>E190</th>\n",
       "      <td>Embraer E190</td>\n",
       "      <td>114</td>\n",
       "      <td>28.7</td>\n",
       "      <td>51</td>\n",
       "      <td>51000</td>\n",
       "    </tr>\n",
       "  </tbody>\n",
       "</table>\n",
       "</div>"
      ],
      "text/plain": [
       "                navn  passasjerer  vingespenn  tow  tow_kg\n",
       "B737  Boeing 737-800          189        34.3   79   79000\n",
       "A320     Airbus A320          150        35.8   78   78000\n",
       "B747    Boeing 747-8          467        68.4  448  448000\n",
       "E190    Embraer E190          114        28.7   51   51000"
      ]
     },
     "execution_count": 62,
     "metadata": {},
     "output_type": "execute_result"
    }
   ],
   "source": [
    "fr"
   ]
  },
  {
   "cell_type": "markdown",
   "metadata": {},
   "source": [
    "Også kan vi legge til en ny rad ved"
   ]
  },
  {
   "cell_type": "code",
   "execution_count": 75,
   "metadata": {
    "slideshow": {
     "slide_type": "notes"
    }
   },
   "outputs": [
    {
     "data": {
      "text/html": [
       "<div>\n",
       "<style scoped>\n",
       "    .dataframe tbody tr th:only-of-type {\n",
       "        vertical-align: middle;\n",
       "    }\n",
       "\n",
       "    .dataframe tbody tr th {\n",
       "        vertical-align: top;\n",
       "    }\n",
       "\n",
       "    .dataframe thead th {\n",
       "        text-align: right;\n",
       "    }\n",
       "</style>\n",
       "<table border=\"1\" class=\"dataframe\">\n",
       "  <thead>\n",
       "    <tr style=\"text-align: right;\">\n",
       "      <th></th>\n",
       "      <th>navn</th>\n",
       "      <th>passasjerer</th>\n",
       "      <th>vingespenn</th>\n",
       "      <th>tow</th>\n",
       "      <th>tow_kg</th>\n",
       "    </tr>\n",
       "  </thead>\n",
       "  <tbody>\n",
       "    <tr>\n",
       "      <th>B737</th>\n",
       "      <td>Boeing 737-800</td>\n",
       "      <td>189</td>\n",
       "      <td>34.3</td>\n",
       "      <td>79</td>\n",
       "      <td>79000</td>\n",
       "    </tr>\n",
       "    <tr>\n",
       "      <th>A320</th>\n",
       "      <td>Airbus A320</td>\n",
       "      <td>150</td>\n",
       "      <td>35.8</td>\n",
       "      <td>78</td>\n",
       "      <td>78000</td>\n",
       "    </tr>\n",
       "    <tr>\n",
       "      <th>B747</th>\n",
       "      <td>Boeing 747-8</td>\n",
       "      <td>467</td>\n",
       "      <td>68.4</td>\n",
       "      <td>448</td>\n",
       "      <td>448000</td>\n",
       "    </tr>\n",
       "    <tr>\n",
       "      <th>E190</th>\n",
       "      <td>Embraer E190</td>\n",
       "      <td>114</td>\n",
       "      <td>28.7</td>\n",
       "      <td>51</td>\n",
       "      <td>51000</td>\n",
       "    </tr>\n",
       "    <tr>\n",
       "      <th>A321</th>\n",
       "      <td>Airbus A321</td>\n",
       "      <td>194</td>\n",
       "      <td>351.0</td>\n",
       "      <td>89</td>\n",
       "      <td>89000</td>\n",
       "    </tr>\n",
       "  </tbody>\n",
       "</table>\n",
       "</div>"
      ],
      "text/plain": [
       "                navn  passasjerer  vingespenn  tow  tow_kg\n",
       "B737  Boeing 737-800          189        34.3   79   79000\n",
       "A320     Airbus A320          150        35.8   78   78000\n",
       "B747    Boeing 747-8          467        68.4  448  448000\n",
       "E190    Embraer E190          114        28.7   51   51000\n",
       "A321     Airbus A321          194       351.0   89   89000"
      ]
     },
     "execution_count": 75,
     "metadata": {},
     "output_type": "execute_result"
    }
   ],
   "source": [
    "A321 = {\"navn\":\"Airbus A321\", \"passasjerer\":194, \"vingespenn\":351, \"tow\":89,\"tow_kg\":89000}\n",
    "A321 = pd.Series(A321,name=\"A321\")\n",
    "fr = fr.append(A321)\n",
    "fr"
   ]
  },
  {
   "cell_type": "markdown",
   "metadata": {
    "slideshow": {
     "slide_type": "slide"
    }
   },
   "source": [
    "# Store datasett\n",
    "La oss se på et datasett som inneholder alle flightene fra hver destinasjon i de bestemte månedene til flyplassen JFK i New York i 2007."
   ]
  },
  {
   "cell_type": "markdown",
   "metadata": {
    "slideshow": {
     "slide_type": "-"
    }
   },
   "source": [
    "Store datasett kan vi laste inn fra .csv-filer"
   ]
  },
  {
   "cell_type": "code",
   "execution_count": 77,
   "metadata": {},
   "outputs": [],
   "source": [
    "flighter = pd.read_csv(\"flights_to_JFK_2007.csv\")"
   ]
  },
  {
   "cell_type": "markdown",
   "metadata": {},
   "source": [
    "Vi kan da bruke info(), head(), og describe() for å se på hva som er i datasettet."
   ]
  },
  {
   "cell_type": "code",
   "execution_count": 78,
   "metadata": {
    "slideshow": {
     "slide_type": "notes"
    }
   },
   "outputs": [
    {
     "name": "stdout",
     "output_type": "stream",
     "text": [
      "<class 'pandas.core.frame.DataFrame'>\n",
      "Int64Index: 3677 entries, 0 to 3676\n",
      "Data columns (total 9 columns):\n",
      "Origin              3677 non-null object\n",
      "OriginCity          3677 non-null object\n",
      "Passengers          3677 non-null int64\n",
      "Seats               3677 non-null int64\n",
      "Flights             3677 non-null int64\n",
      "Distance            3677 non-null float64\n",
      "OriginPopulation    3677 non-null int64\n",
      "Year                3677 non-null int64\n",
      "Month               3677 non-null int64\n",
      "dtypes: float64(1), int64(6), object(2)\n",
      "memory usage: 287.3+ KB\n"
     ]
    }
   ],
   "source": [
    "flighter.info()"
   ]
  },
  {
   "cell_type": "code",
   "execution_count": 80,
   "metadata": {
    "slideshow": {
     "slide_type": "subslide"
    }
   },
   "outputs": [
    {
     "data": {
      "text/html": [
       "<div>\n",
       "<style scoped>\n",
       "    .dataframe tbody tr th:only-of-type {\n",
       "        vertical-align: middle;\n",
       "    }\n",
       "\n",
       "    .dataframe tbody tr th {\n",
       "        vertical-align: top;\n",
       "    }\n",
       "\n",
       "    .dataframe thead th {\n",
       "        text-align: right;\n",
       "    }\n",
       "</style>\n",
       "<table border=\"1\" class=\"dataframe\">\n",
       "  <thead>\n",
       "    <tr style=\"text-align: right;\">\n",
       "      <th></th>\n",
       "      <th>Origin</th>\n",
       "      <th>OriginCity</th>\n",
       "      <th>Passengers</th>\n",
       "      <th>Seats</th>\n",
       "      <th>Flights</th>\n",
       "      <th>Distance</th>\n",
       "      <th>OriginPopulation</th>\n",
       "      <th>Year</th>\n",
       "      <th>Month</th>\n",
       "    </tr>\n",
       "  </thead>\n",
       "  <tbody>\n",
       "    <tr>\n",
       "      <th>0</th>\n",
       "      <td>PBI</td>\n",
       "      <td>West Palm Beach, FL</td>\n",
       "      <td>7906</td>\n",
       "      <td>10920</td>\n",
       "      <td>77</td>\n",
       "      <td>1028.0</td>\n",
       "      <td>5465183</td>\n",
       "      <td>2007</td>\n",
       "      <td>5</td>\n",
       "    </tr>\n",
       "    <tr>\n",
       "      <th>1</th>\n",
       "      <td>PBI</td>\n",
       "      <td>West Palm Beach, FL</td>\n",
       "      <td>5382</td>\n",
       "      <td>7100</td>\n",
       "      <td>50</td>\n",
       "      <td>1028.0</td>\n",
       "      <td>5465183</td>\n",
       "      <td>2007</td>\n",
       "      <td>8</td>\n",
       "    </tr>\n",
       "    <tr>\n",
       "      <th>2</th>\n",
       "      <td>FLL</td>\n",
       "      <td>Fort Lauderdale, FL</td>\n",
       "      <td>40551</td>\n",
       "      <td>46500</td>\n",
       "      <td>310</td>\n",
       "      <td>1069.0</td>\n",
       "      <td>5465183</td>\n",
       "      <td>2007</td>\n",
       "      <td>5</td>\n",
       "    </tr>\n",
       "    <tr>\n",
       "      <th>3</th>\n",
       "      <td>FLL</td>\n",
       "      <td>Fort Lauderdale, FL</td>\n",
       "      <td>11285</td>\n",
       "      <td>15161</td>\n",
       "      <td>107</td>\n",
       "      <td>1069.0</td>\n",
       "      <td>5465183</td>\n",
       "      <td>2007</td>\n",
       "      <td>1</td>\n",
       "    </tr>\n",
       "    <tr>\n",
       "      <th>4</th>\n",
       "      <td>PBI</td>\n",
       "      <td>West Palm Beach, FL</td>\n",
       "      <td>13534</td>\n",
       "      <td>18600</td>\n",
       "      <td>124</td>\n",
       "      <td>1028.0</td>\n",
       "      <td>5465183</td>\n",
       "      <td>2007</td>\n",
       "      <td>10</td>\n",
       "    </tr>\n",
       "  </tbody>\n",
       "</table>\n",
       "</div>"
      ],
      "text/plain": [
       "  Origin           OriginCity  Passengers  Seats  Flights  Distance  \\\n",
       "0    PBI  West Palm Beach, FL        7906  10920       77    1028.0   \n",
       "1    PBI  West Palm Beach, FL        5382   7100       50    1028.0   \n",
       "2    FLL  Fort Lauderdale, FL       40551  46500      310    1069.0   \n",
       "3    FLL  Fort Lauderdale, FL       11285  15161      107    1069.0   \n",
       "4    PBI  West Palm Beach, FL       13534  18600      124    1028.0   \n",
       "\n",
       "   OriginPopulation  Year  Month  \n",
       "0           5465183  2007      5  \n",
       "1           5465183  2007      8  \n",
       "2           5465183  2007      5  \n",
       "3           5465183  2007      1  \n",
       "4           5465183  2007     10  "
      ]
     },
     "execution_count": 80,
     "metadata": {},
     "output_type": "execute_result"
    }
   ],
   "source": [
    "flighter.head()"
   ]
  },
  {
   "cell_type": "code",
   "execution_count": 81,
   "metadata": {
    "scrolled": true
   },
   "outputs": [
    {
     "data": {
      "text/html": [
       "<div>\n",
       "<style scoped>\n",
       "    .dataframe tbody tr th:only-of-type {\n",
       "        vertical-align: middle;\n",
       "    }\n",
       "\n",
       "    .dataframe tbody tr th {\n",
       "        vertical-align: top;\n",
       "    }\n",
       "\n",
       "    .dataframe thead th {\n",
       "        text-align: right;\n",
       "    }\n",
       "</style>\n",
       "<table border=\"1\" class=\"dataframe\">\n",
       "  <thead>\n",
       "    <tr style=\"text-align: right;\">\n",
       "      <th></th>\n",
       "      <th>Passengers</th>\n",
       "      <th>Seats</th>\n",
       "      <th>Flights</th>\n",
       "      <th>Distance</th>\n",
       "      <th>OriginPopulation</th>\n",
       "      <th>Year</th>\n",
       "      <th>Month</th>\n",
       "    </tr>\n",
       "  </thead>\n",
       "  <tbody>\n",
       "    <tr>\n",
       "      <th>count</th>\n",
       "      <td>3677.000000</td>\n",
       "      <td>3677.000000</td>\n",
       "      <td>3677.000000</td>\n",
       "      <td>3677.000000</td>\n",
       "      <td>3.677000e+03</td>\n",
       "      <td>3677.0</td>\n",
       "      <td>3677.000000</td>\n",
       "    </tr>\n",
       "    <tr>\n",
       "      <th>mean</th>\n",
       "      <td>3065.946696</td>\n",
       "      <td>3935.107425</td>\n",
       "      <td>36.851781</td>\n",
       "      <td>985.908077</td>\n",
       "      <td>6.554135e+06</td>\n",
       "      <td>2007.0</td>\n",
       "      <td>6.715529</td>\n",
       "    </tr>\n",
       "    <tr>\n",
       "      <th>std</th>\n",
       "      <td>6012.388961</td>\n",
       "      <td>7228.048238</td>\n",
       "      <td>50.212130</td>\n",
       "      <td>944.754562</td>\n",
       "      <td>8.002859e+06</td>\n",
       "      <td>0.0</td>\n",
       "      <td>3.361614</td>\n",
       "    </tr>\n",
       "    <tr>\n",
       "      <th>min</th>\n",
       "      <td>0.000000</td>\n",
       "      <td>0.000000</td>\n",
       "      <td>1.000000</td>\n",
       "      <td>0.000000</td>\n",
       "      <td>4.299000e+04</td>\n",
       "      <td>2007.0</td>\n",
       "      <td>1.000000</td>\n",
       "    </tr>\n",
       "    <tr>\n",
       "      <th>25%</th>\n",
       "      <td>46.000000</td>\n",
       "      <td>136.000000</td>\n",
       "      <td>2.000000</td>\n",
       "      <td>264.000000</td>\n",
       "      <td>1.212476e+06</td>\n",
       "      <td>2007.0</td>\n",
       "      <td>4.000000</td>\n",
       "    </tr>\n",
       "    <tr>\n",
       "      <th>50%</th>\n",
       "      <td>631.000000</td>\n",
       "      <td>940.000000</td>\n",
       "      <td>20.000000</td>\n",
       "      <td>740.000000</td>\n",
       "      <td>2.669702e+06</td>\n",
       "      <td>2007.0</td>\n",
       "      <td>7.000000</td>\n",
       "    </tr>\n",
       "    <tr>\n",
       "      <th>75%</th>\n",
       "      <td>3359.000000</td>\n",
       "      <td>4403.000000</td>\n",
       "      <td>55.000000</td>\n",
       "      <td>1228.000000</td>\n",
       "      <td>9.007842e+06</td>\n",
       "      <td>2007.0</td>\n",
       "      <td>10.000000</td>\n",
       "    </tr>\n",
       "    <tr>\n",
       "      <th>max</th>\n",
       "      <td>48980.000000</td>\n",
       "      <td>58656.000000</td>\n",
       "      <td>376.000000</td>\n",
       "      <td>4983.000000</td>\n",
       "      <td>3.780233e+07</td>\n",
       "      <td>2007.0</td>\n",
       "      <td>12.000000</td>\n",
       "    </tr>\n",
       "  </tbody>\n",
       "</table>\n",
       "</div>"
      ],
      "text/plain": [
       "         Passengers         Seats      Flights     Distance  OriginPopulation  \\\n",
       "count   3677.000000   3677.000000  3677.000000  3677.000000      3.677000e+03   \n",
       "mean    3065.946696   3935.107425    36.851781   985.908077      6.554135e+06   \n",
       "std     6012.388961   7228.048238    50.212130   944.754562      8.002859e+06   \n",
       "min        0.000000      0.000000     1.000000     0.000000      4.299000e+04   \n",
       "25%       46.000000    136.000000     2.000000   264.000000      1.212476e+06   \n",
       "50%      631.000000    940.000000    20.000000   740.000000      2.669702e+06   \n",
       "75%     3359.000000   4403.000000    55.000000  1228.000000      9.007842e+06   \n",
       "max    48980.000000  58656.000000   376.000000  4983.000000      3.780233e+07   \n",
       "\n",
       "         Year        Month  \n",
       "count  3677.0  3677.000000  \n",
       "mean   2007.0     6.715529  \n",
       "std       0.0     3.361614  \n",
       "min    2007.0     1.000000  \n",
       "25%    2007.0     4.000000  \n",
       "50%    2007.0     7.000000  \n",
       "75%    2007.0    10.000000  \n",
       "max    2007.0    12.000000  "
      ]
     },
     "execution_count": 81,
     "metadata": {},
     "output_type": "execute_result"
    }
   ],
   "source": [
    "flighter.describe()"
   ]
  },
  {
   "cell_type": "markdown",
   "metadata": {},
   "source": [
    "del-funksjonen fungerer slik som for oppslagsverk. \"originpopulation\"-kolonnen er merkelig. Kanskje har vi en feil i datasettet? Uansett så sletter vi den"
   ]
  },
  {
   "cell_type": "code",
   "execution_count": 82,
   "metadata": {
    "slideshow": {
     "slide_type": "notes"
    }
   },
   "outputs": [],
   "source": [
    "del flighter[\"OriginPopulation\"]"
   ]
  },
  {
   "cell_type": "markdown",
   "metadata": {
    "slideshow": {
     "slide_type": "subslide"
    }
   },
   "source": [
    "Vi kan bruke ulike måter for å hente ut en rad, alle radene mellom to bestemte rader, eller et bestemt sett med rader:"
   ]
  },
  {
   "cell_type": "code",
   "execution_count": 83,
   "metadata": {
    "slideshow": {
     "slide_type": "notes"
    }
   },
   "outputs": [
    {
     "data": {
      "text/html": [
       "<div>\n",
       "<style scoped>\n",
       "    .dataframe tbody tr th:only-of-type {\n",
       "        vertical-align: middle;\n",
       "    }\n",
       "\n",
       "    .dataframe tbody tr th {\n",
       "        vertical-align: top;\n",
       "    }\n",
       "\n",
       "    .dataframe thead th {\n",
       "        text-align: right;\n",
       "    }\n",
       "</style>\n",
       "<table border=\"1\" class=\"dataframe\">\n",
       "  <thead>\n",
       "    <tr style=\"text-align: right;\">\n",
       "      <th></th>\n",
       "      <th>Origin</th>\n",
       "      <th>OriginCity</th>\n",
       "      <th>Passengers</th>\n",
       "      <th>Seats</th>\n",
       "      <th>Flights</th>\n",
       "      <th>Distance</th>\n",
       "      <th>Year</th>\n",
       "      <th>Month</th>\n",
       "    </tr>\n",
       "  </thead>\n",
       "  <tbody>\n",
       "    <tr>\n",
       "      <th>500</th>\n",
       "      <td>ATL</td>\n",
       "      <td>Atlanta, GA</td>\n",
       "      <td>48</td>\n",
       "      <td>50</td>\n",
       "      <td>1</td>\n",
       "      <td>760.0</td>\n",
       "      <td>2007</td>\n",
       "      <td>7</td>\n",
       "    </tr>\n",
       "    <tr>\n",
       "      <th>505</th>\n",
       "      <td>ATL</td>\n",
       "      <td>Atlanta, GA</td>\n",
       "      <td>0</td>\n",
       "      <td>184</td>\n",
       "      <td>1</td>\n",
       "      <td>760.0</td>\n",
       "      <td>2007</td>\n",
       "      <td>1</td>\n",
       "    </tr>\n",
       "    <tr>\n",
       "      <th>510</th>\n",
       "      <td>ATL</td>\n",
       "      <td>Atlanta, GA</td>\n",
       "      <td>941</td>\n",
       "      <td>1200</td>\n",
       "      <td>8</td>\n",
       "      <td>760.0</td>\n",
       "      <td>2007</td>\n",
       "      <td>1</td>\n",
       "    </tr>\n",
       "  </tbody>\n",
       "</table>\n",
       "</div>"
      ],
      "text/plain": [
       "    Origin   OriginCity  Passengers  Seats  Flights  Distance  Year  Month\n",
       "500    ATL  Atlanta, GA          48     50        1     760.0  2007      7\n",
       "505    ATL  Atlanta, GA           0    184        1     760.0  2007      1\n",
       "510    ATL  Atlanta, GA         941   1200        8     760.0  2007      1"
      ]
     },
     "execution_count": 83,
     "metadata": {},
     "output_type": "execute_result"
    }
   ],
   "source": [
    "#en bestemt rad\n",
    "flighter.loc[1456]\n",
    "#eller alle radene fra 1456 til 1466\n",
    "flighter.loc[1456:1466]\n",
    "#eller radene 500, 505 og 510\n",
    "flighter.loc[[500,505,510]]"
   ]
  },
  {
   "cell_type": "markdown",
   "metadata": {
    "slideshow": {
     "slide_type": "subslide"
    }
   },
   "source": [
    "Vi kan besvare spørsmål og finne ut av mye interessant fra datasettet. \n",
    "Si for eksempel vi lurer på hvor det fløy flest passasjerer fra?"
   ]
  },
  {
   "cell_type": "code",
   "execution_count": 87,
   "metadata": {},
   "outputs": [
    {
     "data": {
      "text/plain": [
       "Origin                MCO\n",
       "OriginCity    Orlando, FL\n",
       "Passengers          48980\n",
       "Seats               55380\n",
       "Flights               355\n",
       "Distance              944\n",
       "Year                 2007\n",
       "Month                   4\n",
       "Name: 2662, dtype: object"
      ]
     },
     "execution_count": 87,
     "metadata": {},
     "output_type": "execute_result"
    }
   ],
   "source": [
    "flighter[\"Passengers\"].max()\n",
    "rad_med_flest_pax = flighter[\"Passengers\"].idxmax()\n",
    "flighter.iloc[rad_med_flest_pax]"
   ]
  },
  {
   "cell_type": "markdown",
   "metadata": {},
   "source": [
    "Vi kan summere opp verdiene i datasettet"
   ]
  },
  {
   "cell_type": "code",
   "execution_count": 90,
   "metadata": {},
   "outputs": [
    {
     "data": {
      "text/plain": [
       "Origin        PBIPBIFLLFLLPBIPBIFLLFLLFLLFLLFLLFLLPBIFLLPBIS...\n",
       "OriginCity    West Palm Beach, FLWest Palm Beach, FLFort Lau...\n",
       "Passengers                                             11273486\n",
       "Seats                                                  14469390\n",
       "Flights                                                  135504\n",
       "Distance                                            3.62518e+06\n",
       "Year                                                    7379739\n",
       "Month                                                     24693\n",
       "dtype: object"
      ]
     },
     "execution_count": 90,
     "metadata": {},
     "output_type": "execute_result"
    }
   ],
   "source": [
    "flighter.sum()"
   ]
  },
  {
   "cell_type": "markdown",
   "metadata": {},
   "source": [
    "Hvor mange seter var fylt?"
   ]
  },
  {
   "cell_type": "code",
   "execution_count": 89,
   "metadata": {
    "slideshow": {
     "slide_type": "notes"
    }
   },
   "outputs": [
    {
     "data": {
      "text/plain": [
       "0.7791265561298714"
      ]
     },
     "execution_count": 89,
     "metadata": {},
     "output_type": "execute_result"
    }
   ],
   "source": [
    "flighter[\"Passengers\"].sum()/flighter[\"Seats\"].sum()"
   ]
  },
  {
   "cell_type": "markdown",
   "metadata": {
    "slideshow": {
     "slide_type": "subslide"
    }
   },
   "source": [
    "Hvilken måned fløy det mest mennesker?\n",
    "\n",
    "Da kan vi gruppere dataene etter \"Month\" og summere opp innad i hver måned."
   ]
  },
  {
   "cell_type": "code",
   "execution_count": 93,
   "metadata": {
    "scrolled": true,
    "slideshow": {
     "slide_type": "notes"
    }
   },
   "outputs": [
    {
     "data": {
      "text/html": [
       "<div>\n",
       "<style scoped>\n",
       "    .dataframe tbody tr th:only-of-type {\n",
       "        vertical-align: middle;\n",
       "    }\n",
       "\n",
       "    .dataframe tbody tr th {\n",
       "        vertical-align: top;\n",
       "    }\n",
       "\n",
       "    .dataframe thead th {\n",
       "        text-align: right;\n",
       "    }\n",
       "</style>\n",
       "<table border=\"1\" class=\"dataframe\">\n",
       "  <thead>\n",
       "    <tr style=\"text-align: right;\">\n",
       "      <th></th>\n",
       "      <th>Passengers</th>\n",
       "      <th>Seats</th>\n",
       "      <th>Flights</th>\n",
       "      <th>Distance</th>\n",
       "      <th>Year</th>\n",
       "    </tr>\n",
       "    <tr>\n",
       "      <th>Month</th>\n",
       "      <th></th>\n",
       "      <th></th>\n",
       "      <th></th>\n",
       "      <th></th>\n",
       "      <th></th>\n",
       "    </tr>\n",
       "  </thead>\n",
       "  <tbody>\n",
       "    <tr>\n",
       "      <th>1</th>\n",
       "      <td>828953</td>\n",
       "      <td>1189572</td>\n",
       "      <td>11193</td>\n",
       "      <td>252607.0</td>\n",
       "      <td>495729</td>\n",
       "    </tr>\n",
       "    <tr>\n",
       "      <th>2</th>\n",
       "      <td>729105</td>\n",
       "      <td>1015573</td>\n",
       "      <td>9514</td>\n",
       "      <td>298014.0</td>\n",
       "      <td>557946</td>\n",
       "    </tr>\n",
       "    <tr>\n",
       "      <th>3</th>\n",
       "      <td>946820</td>\n",
       "      <td>1212391</td>\n",
       "      <td>11619</td>\n",
       "      <td>277162.0</td>\n",
       "      <td>559953</td>\n",
       "    </tr>\n",
       "    <tr>\n",
       "      <th>4</th>\n",
       "      <td>989453</td>\n",
       "      <td>1206113</td>\n",
       "      <td>11356</td>\n",
       "      <td>300840.0</td>\n",
       "      <td>600093</td>\n",
       "    </tr>\n",
       "    <tr>\n",
       "      <th>5</th>\n",
       "      <td>1010312</td>\n",
       "      <td>1240408</td>\n",
       "      <td>11756</td>\n",
       "      <td>289096.0</td>\n",
       "      <td>571995</td>\n",
       "    </tr>\n",
       "    <tr>\n",
       "      <th>6</th>\n",
       "      <td>993797</td>\n",
       "      <td>1177678</td>\n",
       "      <td>11121</td>\n",
       "      <td>325129.0</td>\n",
       "      <td>704457</td>\n",
       "    </tr>\n",
       "    <tr>\n",
       "      <th>7</th>\n",
       "      <td>1028278</td>\n",
       "      <td>1227458</td>\n",
       "      <td>11520</td>\n",
       "      <td>317349.0</td>\n",
       "      <td>650268</td>\n",
       "    </tr>\n",
       "    <tr>\n",
       "      <th>8</th>\n",
       "      <td>1073422</td>\n",
       "      <td>1266215</td>\n",
       "      <td>11882</td>\n",
       "      <td>306924.0</td>\n",
       "      <td>708471</td>\n",
       "    </tr>\n",
       "    <tr>\n",
       "      <th>9</th>\n",
       "      <td>915174</td>\n",
       "      <td>1230375</td>\n",
       "      <td>11442</td>\n",
       "      <td>321959.0</td>\n",
       "      <td>644247</td>\n",
       "    </tr>\n",
       "    <tr>\n",
       "      <th>10</th>\n",
       "      <td>938696</td>\n",
       "      <td>1260914</td>\n",
       "      <td>11691</td>\n",
       "      <td>309455.0</td>\n",
       "      <td>630198</td>\n",
       "    </tr>\n",
       "    <tr>\n",
       "      <th>11</th>\n",
       "      <td>914448</td>\n",
       "      <td>1223533</td>\n",
       "      <td>11340</td>\n",
       "      <td>303597.0</td>\n",
       "      <td>616149</td>\n",
       "    </tr>\n",
       "    <tr>\n",
       "      <th>12</th>\n",
       "      <td>905028</td>\n",
       "      <td>1219160</td>\n",
       "      <td>11070</td>\n",
       "      <td>323052.0</td>\n",
       "      <td>640233</td>\n",
       "    </tr>\n",
       "  </tbody>\n",
       "</table>\n",
       "</div>"
      ],
      "text/plain": [
       "       Passengers    Seats  Flights  Distance    Year\n",
       "Month                                                \n",
       "1          828953  1189572    11193  252607.0  495729\n",
       "2          729105  1015573     9514  298014.0  557946\n",
       "3          946820  1212391    11619  277162.0  559953\n",
       "4          989453  1206113    11356  300840.0  600093\n",
       "5         1010312  1240408    11756  289096.0  571995\n",
       "6          993797  1177678    11121  325129.0  704457\n",
       "7         1028278  1227458    11520  317349.0  650268\n",
       "8         1073422  1266215    11882  306924.0  708471\n",
       "9          915174  1230375    11442  321959.0  644247\n",
       "10         938696  1260914    11691  309455.0  630198\n",
       "11         914448  1223533    11340  303597.0  616149\n",
       "12         905028  1219160    11070  323052.0  640233"
      ]
     },
     "execution_count": 93,
     "metadata": {},
     "output_type": "execute_result"
    }
   ],
   "source": [
    "flighter.groupby(\"Month\").sum()"
   ]
  },
  {
   "cell_type": "markdown",
   "metadata": {
    "slideshow": {
     "slide_type": "subslide"
    }
   },
   "source": [
    "Til slutt så kan vi også sortere ved hjelp av \"sort_values\"."
   ]
  },
  {
   "cell_type": "code",
   "execution_count": 95,
   "metadata": {
    "scrolled": true,
    "slideshow": {
     "slide_type": "notes"
    }
   },
   "outputs": [
    {
     "data": {
      "text/html": [
       "<div>\n",
       "<style scoped>\n",
       "    .dataframe tbody tr th:only-of-type {\n",
       "        vertical-align: middle;\n",
       "    }\n",
       "\n",
       "    .dataframe tbody tr th {\n",
       "        vertical-align: top;\n",
       "    }\n",
       "\n",
       "    .dataframe thead th {\n",
       "        text-align: right;\n",
       "    }\n",
       "</style>\n",
       "<table border=\"1\" class=\"dataframe\">\n",
       "  <thead>\n",
       "    <tr style=\"text-align: right;\">\n",
       "      <th></th>\n",
       "      <th>Origin</th>\n",
       "      <th>OriginCity</th>\n",
       "      <th>Passengers</th>\n",
       "      <th>Seats</th>\n",
       "      <th>Flights</th>\n",
       "      <th>Distance</th>\n",
       "      <th>Year</th>\n",
       "      <th>Month</th>\n",
       "    </tr>\n",
       "  </thead>\n",
       "  <tbody>\n",
       "    <tr>\n",
       "      <th>2441</th>\n",
       "      <td>HIK</td>\n",
       "      <td>Honolulu, HI</td>\n",
       "      <td>200</td>\n",
       "      <td>247</td>\n",
       "      <td>1</td>\n",
       "      <td>4983.0</td>\n",
       "      <td>2007</td>\n",
       "      <td>9</td>\n",
       "    </tr>\n",
       "    <tr>\n",
       "      <th>1322</th>\n",
       "      <td>ANC</td>\n",
       "      <td>Anchorage, AK</td>\n",
       "      <td>0</td>\n",
       "      <td>0</td>\n",
       "      <td>4</td>\n",
       "      <td>3386.0</td>\n",
       "      <td>2007</td>\n",
       "      <td>4</td>\n",
       "    </tr>\n",
       "    <tr>\n",
       "      <th>1638</th>\n",
       "      <td>ANC</td>\n",
       "      <td>Anchorage, AK</td>\n",
       "      <td>5198</td>\n",
       "      <td>6749</td>\n",
       "      <td>17</td>\n",
       "      <td>3386.0</td>\n",
       "      <td>2007</td>\n",
       "      <td>1</td>\n",
       "    </tr>\n",
       "    <tr>\n",
       "      <th>1615</th>\n",
       "      <td>ANC</td>\n",
       "      <td>Anchorage, AK</td>\n",
       "      <td>0</td>\n",
       "      <td>0</td>\n",
       "      <td>42</td>\n",
       "      <td>3386.0</td>\n",
       "      <td>2007</td>\n",
       "      <td>8</td>\n",
       "    </tr>\n",
       "    <tr>\n",
       "      <th>1616</th>\n",
       "      <td>ANC</td>\n",
       "      <td>Anchorage, AK</td>\n",
       "      <td>0</td>\n",
       "      <td>0</td>\n",
       "      <td>5</td>\n",
       "      <td>3386.0</td>\n",
       "      <td>2007</td>\n",
       "      <td>12</td>\n",
       "    </tr>\n",
       "    <tr>\n",
       "      <th>...</th>\n",
       "      <td>...</td>\n",
       "      <td>...</td>\n",
       "      <td>...</td>\n",
       "      <td>...</td>\n",
       "      <td>...</td>\n",
       "      <td>...</td>\n",
       "      <td>...</td>\n",
       "      <td>...</td>\n",
       "    </tr>\n",
       "    <tr>\n",
       "      <th>1158</th>\n",
       "      <td>JFK</td>\n",
       "      <td>New York, NY</td>\n",
       "      <td>0</td>\n",
       "      <td>355</td>\n",
       "      <td>1</td>\n",
       "      <td>0.0</td>\n",
       "      <td>2007</td>\n",
       "      <td>7</td>\n",
       "    </tr>\n",
       "    <tr>\n",
       "      <th>1062</th>\n",
       "      <td>JFK</td>\n",
       "      <td>New York, NY</td>\n",
       "      <td>81</td>\n",
       "      <td>162</td>\n",
       "      <td>1</td>\n",
       "      <td>0.0</td>\n",
       "      <td>2007</td>\n",
       "      <td>1</td>\n",
       "    </tr>\n",
       "    <tr>\n",
       "      <th>1173</th>\n",
       "      <td>JFK</td>\n",
       "      <td>New York, NY</td>\n",
       "      <td>0</td>\n",
       "      <td>210</td>\n",
       "      <td>1</td>\n",
       "      <td>0.0</td>\n",
       "      <td>2007</td>\n",
       "      <td>11</td>\n",
       "    </tr>\n",
       "    <tr>\n",
       "      <th>1108</th>\n",
       "      <td>JFK</td>\n",
       "      <td>New York, NY</td>\n",
       "      <td>111</td>\n",
       "      <td>164</td>\n",
       "      <td>1</td>\n",
       "      <td>0.0</td>\n",
       "      <td>2007</td>\n",
       "      <td>6</td>\n",
       "    </tr>\n",
       "    <tr>\n",
       "      <th>1187</th>\n",
       "      <td>JFK</td>\n",
       "      <td>New York, NY</td>\n",
       "      <td>0</td>\n",
       "      <td>0</td>\n",
       "      <td>1</td>\n",
       "      <td>0.0</td>\n",
       "      <td>2007</td>\n",
       "      <td>2</td>\n",
       "    </tr>\n",
       "  </tbody>\n",
       "</table>\n",
       "<p>3677 rows × 8 columns</p>\n",
       "</div>"
      ],
      "text/plain": [
       "     Origin     OriginCity  Passengers  Seats  Flights  Distance  Year  Month\n",
       "2441    HIK   Honolulu, HI         200    247        1    4983.0  2007      9\n",
       "1322    ANC  Anchorage, AK           0      0        4    3386.0  2007      4\n",
       "1638    ANC  Anchorage, AK        5198   6749       17    3386.0  2007      1\n",
       "1615    ANC  Anchorage, AK           0      0       42    3386.0  2007      8\n",
       "1616    ANC  Anchorage, AK           0      0        5    3386.0  2007     12\n",
       "...     ...            ...         ...    ...      ...       ...   ...    ...\n",
       "1158    JFK   New York, NY           0    355        1       0.0  2007      7\n",
       "1062    JFK   New York, NY          81    162        1       0.0  2007      1\n",
       "1173    JFK   New York, NY           0    210        1       0.0  2007     11\n",
       "1108    JFK   New York, NY         111    164        1       0.0  2007      6\n",
       "1187    JFK   New York, NY           0      0        1       0.0  2007      2\n",
       "\n",
       "[3677 rows x 8 columns]"
      ]
     },
     "execution_count": 95,
     "metadata": {},
     "output_type": "execute_result"
    }
   ],
   "source": [
    "flighter.sort_values(\"Distance\",ascending=False) #Hvis du vil hente ut den første da bruk .iloc[0]"
   ]
  },
  {
   "cell_type": "markdown",
   "metadata": {
    "slideshow": {
     "slide_type": "slide"
    }
   },
   "source": [
    "### Tips til å finne datasett (på nettet)\n",
    "- Google er din beste venn!\n",
    "- Vi legger ut noen lenker til samlinger av datasett under ulike kategorier.\n",
    "- De enkleste formatene vi finner data i er .csv, .tsv, .xlsx\n",
    "- Andre formater er .xml, .JSON, .cat, .dat +++ \n",
    "- Vi trenger ofte en beskrivelse til datasettet. Hva inneholder kolonnene? Hvilke enheter er tall osv. oppgitt i?"
   ]
  }
 ],
 "metadata": {
  "celltoolbar": "Slideshow",
  "kernelspec": {
   "display_name": "Python 3",
   "language": "python",
   "name": "python3"
  },
  "language_info": {
   "codemirror_mode": {
    "name": "ipython",
    "version": 3
   },
   "file_extension": ".py",
   "mimetype": "text/x-python",
   "name": "python",
   "nbconvert_exporter": "python",
   "pygments_lexer": "ipython3",
   "version": "3.6.9"
  }
 },
 "nbformat": 4,
 "nbformat_minor": 2
}
