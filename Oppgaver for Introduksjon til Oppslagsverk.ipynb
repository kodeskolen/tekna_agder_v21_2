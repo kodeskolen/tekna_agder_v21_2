{
 "cells": [
  {
   "cell_type": "markdown",
   "metadata": {
    "id": "0jkmezR18BdG"
   },
   "source": [
    "# Oppslagverk (dictionaries) i Python\n",
    "\n",
    "Disse oppgavene handler om oppgslagverk (eng: dictionaries) i Python, og er for deg som ikke har brukt det tidligere"
   ]
  },
  {
   "cell_type": "markdown",
   "metadata": {
    "id": "CC5TDPjV8BdV"
   },
   "source": [
    "### a)\n",
    "\n",
    "I cellen under har vi definert et enkelt oppslagsverk, med navn på fjelltopper og høyder i meter.\n",
    "\n",
    "Hva har vi brukt som nøkler (keys) i oppslagsverket?\n",
    "\n",
    "Hva er verdiene (values) i oppslagsverket?"
   ]
  },
  {
   "cell_type": "code",
   "execution_count": null,
   "metadata": {
    "id": "aKuyFd1p8BdX"
   },
   "outputs": [],
   "source": [
    "fjelltopphøyder = {\n",
    "                \"Annapurna I\" : 8091,\n",
    "                \"Cho Oyu\" : 8188, \n",
    "                \"Dhaulagiri I\" : 8167,\n",
    "                \"K2\" : 8611, \n",
    "                \"Kangchenjunga\" : 8586, \n",
    "                \"Lhotse\" : 8516,\n",
    "                \"Makalu\" : 8485,\n",
    "                \"Manaslu\" : 8163,\n",
    "                \"Mount Everest\" : 8848, \n",
    "                \"Nanga Parbat\" : 8126,\n",
    "                \"Mount Serval\": 7681\n",
    "                }"
   ]
  },
  {
   "cell_type": "markdown",
   "metadata": {
    "id": "RxTyFW5x8BdZ"
   },
   "source": [
    "### b)\n",
    "I cellen under print ut hvor høyt Mount Everest er ved hjelp av en flettestreng.\n",
    "Vi har startet litt på koden.\n"
   ]
  },
  {
   "cell_type": "code",
   "execution_count": null,
   "metadata": {
    "id": "rSYS0VEY8Bda",
    "outputId": "e80f4f5b-5d00-4b6c-fa0a-68e3fa2e329f"
   },
   "outputs": [
    {
     "name": "stdout",
     "output_type": "stream",
     "text": [
      "Mount Everest er 0 m høyt.\n"
     ]
    }
   ],
   "source": [
    "print(f\"Mount Everest er {0} m høyt.\")"
   ]
  },
  {
   "cell_type": "markdown",
   "metadata": {
    "id": "p0k3x8NZ8Bdd"
   },
   "source": [
    "### c)\n",
    "Fjellet \"Mount Serval\" finnes ikke, slett det fra oppslagsverket ved hjelp av del()."
   ]
  },
  {
   "cell_type": "code",
   "execution_count": null,
   "metadata": {
    "id": "PwA_b3Sd8Bde"
   },
   "outputs": [],
   "source": []
  },
  {
   "cell_type": "markdown",
   "metadata": {
    "id": "McpcdRRz8Bdf"
   },
   "source": [
    "### d) \n",
    "Hvis vi vil ha en oversikt over hvilke fjell vi har i oppslagverket kan vi printe ut alle nøklene. Gjør det, finn også ut hvor mange fjell som er i oppslagsverket."
   ]
  },
  {
   "cell_type": "code",
   "execution_count": null,
   "metadata": {
    "id": "NppyzRlR8Bdf"
   },
   "outputs": [],
   "source": []
  },
  {
   "cell_type": "markdown",
   "metadata": {
    "id": "aXihDA818Bdg"
   },
   "source": [
    "### e) \n",
    "Besvar disse spørsmålene ved hjelp av python i neste celle.\n",
    "\n",
    "Er fjellet \"Makalu\" i oppslagsverket? \n",
    "\n",
    "Er fjellet \"Vinga\" i oppslagsverket?"
   ]
  },
  {
   "cell_type": "code",
   "execution_count": null,
   "metadata": {
    "id": "Y591nP858Bdg"
   },
   "outputs": [],
   "source": []
  },
  {
   "cell_type": "markdown",
   "metadata": {
    "id": "6IJi_v4a8Bdh"
   },
   "source": [
    "### f) \n",
    "Bonus: Print ut hvor høyt hvert fjell er ved hjelp av en for-løkke.\n",
    "\n",
    "Bonus: I dokumentasjonen til Python finner vi en beskrivelse av all funksjonaliteten til oppgslagsverk, se linken https://docs.python.org/3/library/stdtypes.html#dict . (Dette er et ganske teknisk dokument så ikke bli forskrekket om det er vanskelig å forstå, det kommer med erfaring!)\n",
    "\n",
    "Kan du gjenkjenne noen funksjonaliteter du allerede har brukt? \n",
    "\n",
    "Prøv å bruk en av funksjonalitetene som er beskrevet på egenhånd?"
   ]
  },
  {
   "cell_type": "markdown",
   "metadata": {
    "id": "MOBEmu7g8Bdi"
   },
   "source": [
    "# Oppgave 2: Doble Oppgslagsverk : Nested Dictionaries\n",
    "Eller oppslagsverk inne i oppslagsverk. (vanskelig å finne en god oversettelse, \"nestet\" er ikke riktig.)\n",
    "## Et enkelt HR-system\n",
    "### a)\n",
    "Vi skal i denne oppgaven ta for oss et program som skal gjøre noen oppgaver for å holde styr på de ansatte i en bedrift. Formålet med oppgaven er å vise fram bruksområdet til oppslagsverk, oppslagsverk som et dataset og oppslagsverk inne i oppslagsverk.\n",
    "\n",
    "Se på det følgende oppslagsverket, hva er nøklene til oppslagsverket og hva slags verdier har vi?\n",
    "\n"
   ]
  },
  {
   "cell_type": "code",
   "execution_count": null,
   "metadata": {
    "id": "jcZJp4jn8Bdi"
   },
   "outputs": [],
   "source": [
    "ansatt1 = {\"navn\":\"Per Nordmann\",\"inntekt\":451674, \"alder\":27, \"arbeidssted\":\"Stavanger\"}"
   ]
  },
  {
   "cell_type": "markdown",
   "metadata": {
    "id": "IIH6coCF8Bdj"
   },
   "source": [
    "### b)\n",
    "Opprett et nytt oppslagsverk for deg selv eller en fiktiv person i variabelen \"ansatt2\""
   ]
  },
  {
   "cell_type": "code",
   "execution_count": null,
   "metadata": {
    "id": "LYKyzgv38Bdj"
   },
   "outputs": [],
   "source": []
  },
  {
   "cell_type": "markdown",
   "metadata": {
    "id": "NBCxTkx_8Bdj"
   },
   "source": [
    "### c) \n",
    "Vi ønsker nå å holde styr på flere hundre ansatte ved en bedrift, men det blir fort umulig å skulle gjøre oppgaver med og håndtere mange variabler av typen \"ansatt1\", \"ansatt2\", \"ansatt3\" osv. Vi oppretter derfor et nytt oppslagsverk, hvis nøkler er den ansatte sitt ansattnummer og verdien er oppslagsverket som vi brukte i sted. Se på eksempelet under som legger \"ansatt1\" inn i et oppslagsverk, og gjør det samme med \"ansatt2\" selv, med ansattnummeret 2."
   ]
  },
  {
   "cell_type": "code",
   "execution_count": null,
   "metadata": {
    "id": "PhU5xvQo8Bdk"
   },
   "outputs": [],
   "source": [
    "ansatte = {}\n",
    "ansatte[1] = ansatt1\n",
    "#legg inn ansatt2 her"
   ]
  },
  {
   "cell_type": "markdown",
   "metadata": {
    "id": "OhRmd_fF8Bdk"
   },
   "source": [
    "### c)\n",
    "\n",
    "Print ut hele oppslagsverket og prøv å se om du forstår utskriften. Kan du se nøklene og verdiene i oppslagsverket?"
   ]
  },
  {
   "cell_type": "code",
   "execution_count": null,
   "metadata": {
    "id": "CfDiuZBY8Bdl"
   },
   "outputs": [],
   "source": [
    "#print ...."
   ]
  },
  {
   "cell_type": "markdown",
   "metadata": {
    "id": "3HF9b74D8Bdl"
   },
   "source": [
    "### d)\n",
    "\n",
    "Koden under genererer svært mange ansatte til bedriften din, kjør den og print ut oppslagsverket i cellen under. Er det enkelt å få informasjon fra denne visningen? Gjerne også se på koden som generer ansatte, den bruker nok noen funksjoner du ikke kjenner til, men det er en god øvelse å se om du forstår hva som skjer!"
   ]
  },
  {
   "cell_type": "code",
   "execution_count": null,
   "metadata": {
    "id": "AsiTcspH8Bdl"
   },
   "outputs": [],
   "source": [
    "import numpy as np\n",
    "def generer_ansatte(antall_ansatte, ansatte):\n",
    "    #trenger disse pakkene\n",
    "    from random import choice\n",
    "    \n",
    "    #mulige navn å trekke blant, legg gjerne til dine egne alternativer i listene her!!!\n",
    "    mulige_fornavn = [\"Jan\",\"Kåre\",\"Per\",\"Åse\",\"Marie\",\"Helene\",\"Johan\",\"Bente\"]\n",
    "    mulige_etternavn = [\"Nordmann\", \"Sand\", \"Tjelta\", \"Hagen\", \"Smith\", \"Hansen\", \"Persson\", \"Martinsen\"]\n",
    "    mulige_arbeidssteder = [\"Stavanger\",\"Oslo\",\"Bergen\",\"Trondheim\"]\n",
    "    \n",
    "    #løkke gjennom alle ansatte\n",
    "    for ansattnummer in range(3,antall_ansatte+3):\n",
    "        #generer tilfeldige verdier\n",
    "        navn = choice(mulige_fornavn) + \" \" + choice(mulige_etternavn)\n",
    "        inntekt = round(np.random.normal(599765, 100000))\n",
    "        alder = round(np.random.uniform(20,67))\n",
    "        arbeidssted = choice(mulige_arbeidssteder)\n",
    "        #plasser dem inn i oppslagsverk (her er det viktig å se på forskjellen mellom hva det er \"\" rundt og ikke)\n",
    "        ansatte[ansattnummer] = {\"navn\":navn,\"inntekt\":inntekt,\"alder\":alder,\"arbeidssted\":arbeidssted}\n",
    "    return ansatte\n",
    "\n",
    "ansatte = generer_ansatte(round(np.random.uniform(70,130)),ansatte)"
   ]
  },
  {
   "cell_type": "code",
   "execution_count": null,
   "metadata": {
    "id": "Z0Vhe5Ay8Bdm"
   },
   "outputs": [],
   "source": [
    "#print ... "
   ]
  },
  {
   "cell_type": "markdown",
   "metadata": {
    "id": "1k-6pzqP8Bdn"
   },
   "source": [
    "### e)\n",
    "\n",
    "Vi har nå ganske mange ansatte og det å håndtere dem en og en vil ta veldig mye tid. \n",
    "Hvor mange ansatte er det i bedriften nå?\n",
    "Hint: hvor mange nøkler har vi?\n"
   ]
  },
  {
   "cell_type": "markdown",
   "metadata": {
    "id": "JgJLQQSw8Bdn"
   },
   "source": [
    "### f)\n",
    "\n",
    "Følgende kodesnutt printer ut navnet om hver ansatt, kan du modifisere den til å finne den som tjener mest?"
   ]
  },
  {
   "cell_type": "code",
   "execution_count": null,
   "metadata": {
    "id": "40SNbc3t8Bdn",
    "outputId": "6b588842-ba6f-4510-f3fa-fdfc3977f56f"
   },
   "outputs": [
    {
     "name": "stdout",
     "output_type": "stream",
     "text": [
      "Ansatt nummer 1, heter Per Nordmann.\n",
      "Ansatt nummer 3, heter Bente Sand.\n",
      "Ansatt nummer 4, heter Helene Hansen.\n",
      "Ansatt nummer 5, heter Bente Tjelta.\n",
      "Ansatt nummer 6, heter Marie Smith.\n",
      "Ansatt nummer 7, heter Kåre Hansen.\n",
      "Ansatt nummer 8, heter Johan Smith.\n",
      "Ansatt nummer 9, heter Johan Hagen.\n",
      "Ansatt nummer 10, heter Bente Martinsen.\n",
      "Ansatt nummer 11, heter Jan Persson.\n",
      "Ansatt nummer 12, heter Åse Hagen.\n",
      "Ansatt nummer 13, heter Jan Smith.\n",
      "Ansatt nummer 14, heter Johan Nordmann.\n",
      "Ansatt nummer 15, heter Johan Nordmann.\n",
      "Ansatt nummer 16, heter Åse Tjelta.\n",
      "Ansatt nummer 17, heter Kåre Martinsen.\n",
      "Ansatt nummer 18, heter Johan Sand.\n",
      "Ansatt nummer 19, heter Kåre Nordmann.\n",
      "Ansatt nummer 20, heter Kåre Smith.\n",
      "Ansatt nummer 21, heter Åse Tjelta.\n",
      "Ansatt nummer 22, heter Per Tjelta.\n",
      "Ansatt nummer 23, heter Kåre Hansen.\n",
      "Ansatt nummer 24, heter Jan Persson.\n",
      "Ansatt nummer 25, heter Kåre Hagen.\n",
      "Ansatt nummer 26, heter Marie Nordmann.\n",
      "Ansatt nummer 27, heter Johan Hagen.\n",
      "Ansatt nummer 28, heter Per Persson.\n",
      "Ansatt nummer 29, heter Per Nordmann.\n",
      "Ansatt nummer 30, heter Marie Hagen.\n",
      "Ansatt nummer 31, heter Marie Tjelta.\n",
      "Ansatt nummer 32, heter Johan Hansen.\n",
      "Ansatt nummer 33, heter Johan Hagen.\n",
      "Ansatt nummer 34, heter Åse Hagen.\n",
      "Ansatt nummer 35, heter Johan Martinsen.\n",
      "Ansatt nummer 36, heter Åse Persson.\n",
      "Ansatt nummer 37, heter Johan Tjelta.\n",
      "Ansatt nummer 38, heter Per Smith.\n",
      "Ansatt nummer 39, heter Åse Smith.\n",
      "Ansatt nummer 40, heter Marie Persson.\n",
      "Ansatt nummer 41, heter Jan Hagen.\n",
      "Ansatt nummer 42, heter Johan Hagen.\n",
      "Ansatt nummer 43, heter Johan Nordmann.\n",
      "Ansatt nummer 44, heter Per Martinsen.\n",
      "Ansatt nummer 45, heter Kåre Hansen.\n",
      "Ansatt nummer 46, heter Kåre Nordmann.\n",
      "Ansatt nummer 47, heter Helene Martinsen.\n",
      "Ansatt nummer 48, heter Kåre Tjelta.\n",
      "Ansatt nummer 49, heter Johan Nordmann.\n",
      "Ansatt nummer 50, heter Åse Smith.\n",
      "Ansatt nummer 51, heter Åse Nordmann.\n",
      "Ansatt nummer 52, heter Kåre Nordmann.\n",
      "Ansatt nummer 53, heter Kåre Sand.\n",
      "Ansatt nummer 54, heter Bente Nordmann.\n",
      "Ansatt nummer 55, heter Kåre Hagen.\n",
      "Ansatt nummer 56, heter Per Nordmann.\n",
      "Ansatt nummer 57, heter Kåre Sand.\n",
      "Ansatt nummer 58, heter Åse Nordmann.\n",
      "Ansatt nummer 59, heter Kåre Nordmann.\n",
      "Ansatt nummer 60, heter Åse Persson.\n",
      "Ansatt nummer 61, heter Per Nordmann.\n",
      "Ansatt nummer 62, heter Jan Hagen.\n",
      "Ansatt nummer 63, heter Johan Nordmann.\n",
      "Ansatt nummer 64, heter Per Persson.\n",
      "Ansatt nummer 65, heter Kåre Persson.\n",
      "Ansatt nummer 66, heter Bente Hagen.\n",
      "Ansatt nummer 67, heter Åse Sand.\n",
      "Ansatt nummer 68, heter Marie Tjelta.\n",
      "Ansatt nummer 69, heter Jan Sand.\n",
      "Ansatt nummer 70, heter Åse Tjelta.\n",
      "Ansatt nummer 71, heter Marie Martinsen.\n",
      "Ansatt nummer 72, heter Per Martinsen.\n",
      "Ansatt nummer 73, heter Marie Tjelta.\n",
      "Ansatt nummer 74, heter Per Hagen.\n",
      "Ansatt nummer 75, heter Bente Martinsen.\n",
      "Ansatt nummer 76, heter Helene Hagen.\n",
      "Ansatt nummer 77, heter Kåre Hagen.\n",
      "Ansatt nummer 78, heter Kåre Hansen.\n",
      "Ansatt nummer 79, heter Marie Smith.\n",
      "Ansatt nummer 80, heter Helene Hansen.\n",
      "Ansatt nummer 81, heter Marie Sand.\n",
      "Ansatt nummer 82, heter Jan Hagen.\n",
      "Ansatt nummer 83, heter Helene Hansen.\n",
      "Ansatt nummer 84, heter Kåre Hagen.\n",
      "Ansatt nummer 85, heter Helene Hansen.\n",
      "Ansatt nummer 86, heter Bente Hagen.\n",
      "Ansatt nummer 87, heter Jan Sand.\n",
      "Ansatt nummer 88, heter Bente Tjelta.\n",
      "Ansatt nummer 89, heter Bente Tjelta.\n",
      "Ansatt nummer 90, heter Kåre Martinsen.\n",
      "Ansatt nummer 91, heter Marie Hagen.\n",
      "Ansatt nummer 92, heter Johan Martinsen.\n",
      "Ansatt nummer 93, heter Per Persson.\n",
      "Ansatt nummer 94, heter Kåre Martinsen.\n",
      "Ansatt nummer 95, heter Johan Sand.\n",
      "Ansatt nummer 96, heter Johan Sand.\n",
      "Ansatt nummer 97, heter Helene Smith.\n",
      "Ansatt nummer 98, heter Per Sand.\n",
      "Ansatt nummer 99, heter Helene Sand.\n",
      "Ansatt nummer 100, heter Helene Tjelta.\n",
      "Ansatt nummer 101, heter Åse Hansen.\n",
      "Ansatt nummer 102, heter Bente Nordmann.\n",
      "Ansatt nummer 103, heter Bente Tjelta.\n",
      "Ansatt nummer 104, heter Marie Hagen.\n",
      "Ansatt nummer 105, heter Jan Sand.\n",
      "Ansatt nummer 106, heter Åse Hansen.\n",
      "Ansatt nummer 107, heter Jan Persson.\n",
      "Ansatt nummer 108, heter Helene Hagen.\n",
      "Ansatt nummer 109, heter Johan Hagen.\n",
      "Ansatt nummer 110, heter Johan Sand.\n",
      "Ansatt nummer 111, heter Johan Persson.\n",
      "Ansatt nummer 112, heter Åse Hagen.\n",
      "Ansatt nummer 113, heter Åse Hagen.\n",
      "Ansatt nummer 114, heter Helene Hagen.\n",
      "Ansatt nummer 115, heter Per Persson.\n",
      "Ansatt nummer 116, heter Bente Persson.\n"
     ]
    }
   ],
   "source": [
    "for ansatt in ansatte:\n",
    "    print(f\"Ansatt nummer {ansatt}, heter {ansatte[ansatt]['navn']}.\")"
   ]
  },
  {
   "cell_type": "markdown",
   "metadata": {
    "id": "97hIItV_8Bdo"
   },
   "source": [
    "### g)\n",
    "Velg ett eller flere av punktene og svar på spørsmålet.\n",
    "- Hva er gjennomsnittsalderen på de ansatte?\n",
    "- Hvor mye bruker bedriften på lønninger?  \n",
    "- Hvem tjener mest?\n",
    "- Hvilken ansatt er yngst?\n",
    "- Ved hvilket kontor sitter det flest ansatte? (Hint: Definer et oppslagsverk hvis nøkler er stedet og verdi er antallet som jobber der) \n",
    "- Hva er det mest populære etternavnet i bedriften? (Hint: Forrige oppgave)"
   ]
  },
  {
   "cell_type": "code",
   "execution_count": null,
   "metadata": {
    "id": "0dmy6C9v8Bdo"
   },
   "outputs": [],
   "source": []
  },
  {
   "cell_type": "code",
   "execution_count": null,
   "metadata": {
    "id": "joJh5hjj8Bdo"
   },
   "outputs": [],
   "source": []
  }
 ],
 "metadata": {
  "colab": {
   "collapsed_sections": [],
   "name": "Skisse for Introduksjon til Oppslagsverk.ipynb",
   "provenance": []
  },
  "kernelspec": {
   "display_name": "Python 3",
   "language": "python",
   "name": "python3"
  },
  "language_info": {
   "codemirror_mode": {
    "name": "ipython",
    "version": 3
   },
   "file_extension": ".py",
   "mimetype": "text/x-python",
   "name": "python",
   "nbconvert_exporter": "python",
   "pygments_lexer": "ipython3",
   "version": "3.6.9"
  }
 },
 "nbformat": 4,
 "nbformat_minor": 1
}
