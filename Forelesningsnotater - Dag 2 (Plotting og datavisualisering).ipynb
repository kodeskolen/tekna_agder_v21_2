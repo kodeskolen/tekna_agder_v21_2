{
 "cells": [
  {
   "cell_type": "markdown",
   "metadata": {
    "slideshow": {
     "slide_type": "slide"
    }
   },
   "source": [
    "# Introduksjonskurs i programmering\n",
    "### Dag 2 - Datavisualisering med Plotly Express"
   ]
  },
  {
   "cell_type": "code",
   "execution_count": 1,
   "metadata": {
    "slideshow": {
     "slide_type": "fragment"
    }
   },
   "outputs": [
    {
     "name": "stdout",
     "output_type": "stream",
     "text": [
      "Velkommen til andre kursdag 2021-05-06\n"
     ]
    }
   ],
   "source": [
    "import datetime\n",
    "print(f\"Velkommen til andre kursdag {datetime.date.today()}\")"
   ]
  },
  {
   "cell_type": "markdown",
   "metadata": {
    "slideshow": {
     "slide_type": "subslide"
    }
   },
   "source": [
    "#### (Tentativ) Plan for dagen\n",
    "1. Kort repetisjon av første kursdag (15 min)\n",
    "2. Introduksjon til Plotly Express (45 min)\n",
    "    * Pause (15 min)\n",
    "3. Øvingsoppgaver med plotting (30 min)\n",
    "4. Et par litt mer avanserte eksempler (20 min)\n",
    "    * Pause (15 min)\n",
    "5. Oppgaver med pandas og plotting (30 min)\n",
    "6. Oppsummering (10 min)"
   ]
  },
  {
   "cell_type": "markdown",
   "metadata": {
    "slideshow": {
     "slide_type": "slide"
    }
   },
   "source": [
    "# Repetisjon fra første kursdag\n",
    "\n",
    "1. Jupyter Notebooks\n",
    "2. Oppslagsverk\n",
    "3. Funksjoner\n",
    "4. Pandas (dataframes)"
   ]
  },
  {
   "cell_type": "markdown",
   "metadata": {
    "slideshow": {
     "slide_type": "subslide"
    }
   },
   "source": [
    "#### JupyterNotebooks\n",
    "\n",
    "* Jupyter Notebooks er et verktøy for å jobbe med og kjøre Python-kode.\n",
    "* Lar oss kombinere kode, resultater og annen tekst"
   ]
  },
  {
   "cell_type": "markdown",
   "metadata": {
    "slideshow": {
     "slide_type": "subslide"
    }
   },
   "source": [
    "**Kanskje det viktigste å huske på:**\n",
    "* Notebooken har hukommelse og vi kan gjenbruke variabler i nye celler\n",
    "* Rekkefølgen celler kjøres i er viktig\n",
    "    * Du kan bruke `Kernel > Restart and run all` som en restart\n",
    "* Velger å ikke bruke så mye tid på å repetere Jupyter. Spør om det er noe som er uklart!"
   ]
  },
  {
   "cell_type": "markdown",
   "metadata": {
    "slideshow": {
     "slide_type": "slide"
    }
   },
   "source": [
    "#### Oppslagsverk (`dictionary`)\n",
    "\n",
    "* En innebygd datatype som kan brukes for å lagre data i nøkkel/verdi-par\n",
    "* Defineres med krøllparenteser og kolon: `person = {\"navn\": \"Jonas\", \"alder\": 29}`"
   ]
  },
  {
   "cell_type": "code",
   "execution_count": 2,
   "metadata": {
    "slideshow": {
     "slide_type": "subslide"
    }
   },
   "outputs": [],
   "source": [
    "B737 = {\"navn\":\"Boeing 737-800\", \"passasjerer\":189, \"vingespenn\":34.3, \"tow\":79 }\n",
    "A320 = {\"navn\":\"Airbus A320\", \"passasjerer\":150, \"vingespenn\":35.8, \"tow\":78 }\n",
    "B747 = {\"navn\":\"Boeing 747-8\",\"passasjerer\":467, \"vingespenn\":68.4, \"tow\":448 }\n",
    "E190 = {\"navn\":\"Embraer E190\", \"passasjerer\":114, \"vingespenn\":28.7, \"tow\":51}\n",
    "\n",
    "\n",
    "flymodeller = {\n",
    "    \"B737\":B737,\n",
    "    \"A320\":A320,\n",
    "    \"B747\":B747,\n",
    "    \"E190\":E190\n",
    "}"
   ]
  },
  {
   "cell_type": "markdown",
   "metadata": {
    "slideshow": {
     "slide_type": "fragment"
    }
   },
   "source": [
    "Her lager vi et oppslagsverk for hvert fly, og deretter et oppslagsverk som oppbevarer disse (nestede oppslagsverk)"
   ]
  },
  {
   "cell_type": "code",
   "execution_count": 3,
   "metadata": {
    "slideshow": {
     "slide_type": "subslide"
    }
   },
   "outputs": [
    {
     "name": "stdout",
     "output_type": "stream",
     "text": [
      "{'navn': 'Boeing 737-800', 'passasjerer': 189, 'vingespenn': 34.3, 'tow': 79}\n"
     ]
    }
   ],
   "source": [
    "print(flymodeller[\"B737\"])"
   ]
  },
  {
   "cell_type": "markdown",
   "metadata": {
    "slideshow": {
     "slide_type": "subslide"
    }
   },
   "source": [
    "Live-koding: Hvordan finne gjennomsnittlig vingespenn?"
   ]
  },
  {
   "cell_type": "code",
   "execution_count": 4,
   "metadata": {
    "slideshow": {
     "slide_type": "fragment"
    }
   },
   "outputs": [],
   "source": [
    "# Fyll inn kode her"
   ]
  },
  {
   "cell_type": "code",
   "execution_count": 5,
   "metadata": {
    "slideshow": {
     "slide_type": "skip"
    }
   },
   "outputs": [
    {
     "name": "stdout",
     "output_type": "stream",
     "text": [
      "Gjennomnsittlig vingespenn: 41.8\n"
     ]
    }
   ],
   "source": [
    "# Fasit (Vises ikke live)\n",
    "total = 0\n",
    "antall = 0\n",
    "for fly in flymodeller.values():\n",
    "    total += fly[\"vingespenn\"]\n",
    "    antall += 1\n",
    "    \n",
    "print(f\"Gjennomnsittlig vingespenn: {total/antall}\")"
   ]
  },
  {
   "cell_type": "markdown",
   "metadata": {
    "slideshow": {
     "slide_type": "subslide"
    }
   },
   "source": [
    "### Funksjoner i Python\n",
    "\n",
    "* Python har mange innebygde funksjoner (f.eks `print`, `abs`, `input`)\n",
    "* Eksterne pakker lar oss importere mange fler\n",
    "\n",
    "**Hvorfor er funksjoner nyttige?**\n",
    "* Funksjoner lar oss gjenbruke og generalisere kode\n",
    "* Hever *abstraksjonsnivået*\n",
    "\n"
   ]
  },
  {
   "cell_type": "markdown",
   "metadata": {
    "slideshow": {
     "slide_type": "subslide"
    }
   },
   "source": [
    "#### Vi kan definere egne funksjoner med nøkkelordet `def`"
   ]
  },
  {
   "cell_type": "code",
   "execution_count": 6,
   "metadata": {
    "slideshow": {
     "slide_type": "fragment"
    }
   },
   "outputs": [
    {
     "name": "stdout",
     "output_type": "stream",
     "text": [
      "5 doblet én gang: 10\n",
      "5 doblet tre ganger: 40\n"
     ]
    }
   ],
   "source": [
    "def double(x, n=1):\n",
    "    return x * 2**n\n",
    "\n",
    "print(f\"5 doblet én gang: {double(5)}\")\n",
    "print(f\"5 doblet tre ganger: {double(5, n=3)}\")"
   ]
  },
  {
   "cell_type": "markdown",
   "metadata": {
    "slideshow": {
     "slide_type": "fragment"
    }
   },
   "source": [
    "Her er `x` et vanlig argument, mens `n` blir et *keyword argument* (frivillig)"
   ]
  },
  {
   "cell_type": "markdown",
   "metadata": {
    "slideshow": {
     "slide_type": "subslide"
    }
   },
   "source": [
    "##### Et litt mer avansert eksempel: Røverspråk\n",
    "* Fra Astrid Lindgrens bøker om Kalle Blomkvist\n",
    "* Etter hver konsonant i en tekst, legg til \"o\" og så gjenta konsonanten\n",
    "* F.eks: Ordet \"Katt\" blir \"Kokatottot"
   ]
  },
  {
   "cell_type": "code",
   "execution_count": null,
   "metadata": {
    "slideshow": {
     "slide_type": "fragment"
    }
   },
   "outputs": [],
   "source": [
    "konsonanter = \"bcdfghjklmnpqrstvxyz\"\n",
    "\n",
    "def røverspråk(tekst):\n",
    "    hemmelig = \"\"\n",
    "    for bokstav in tekst:\n",
    "        if bokstav.lower() in konsonanter:\n",
    "            hemmelig += bokstav + \"o\" + bokstav.lower()\n",
    "        else:\n",
    "            hemmelig += bokstav\n",
    "    return hemmelig\n",
    "\n",
    "beskjed = \"Møt meg bak den store eika etter skoletid\"\n",
    "print(røverspråk(beskjed))"
   ]
  },
  {
   "cell_type": "markdown",
   "metadata": {
    "slideshow": {
     "slide_type": "subslide"
    }
   },
   "source": [
    "* En av de største fordelene med funksjoner er at de kan gjenbrukes og kombineres\n",
    "* La oss f.eks lage et superhemmelig *dobbeltrøverspråk*"
   ]
  },
  {
   "cell_type": "code",
   "execution_count": null,
   "metadata": {
    "slideshow": {
     "slide_type": "fragment"
    }
   },
   "outputs": [],
   "source": [
    "beskjed = \"Møt meg bak den store eika etter skoletid\"\n",
    "print(røverspråk(røverspråk(beskjed)))"
   ]
  },
  {
   "cell_type": "markdown",
   "metadata": {
    "slideshow": {
     "slide_type": "fragment"
    }
   },
   "source": [
    "* Dette er selvfølgelig en spøk. Men poenget er at funksjoner lar oss kombinere og gjenbruke kode på et høyt abstraksjonsnivå"
   ]
  },
  {
   "cell_type": "markdown",
   "metadata": {
    "slideshow": {
     "slide_type": "slide"
    }
   },
   "source": [
    "### 4) Pandas og dataframes\n",
    "\n",
    "* Pandas (Python Data Analysis Library) er en tilleggspakke til Python for databehandling/analyse\n",
    "* Vi har brukt en analog til \"excel\", men pandas lar oss scripte i Python og er dermed meget fleksibelt\n",
    "* Hovedfunksjonaliteten i pandas er `DataFrame`, som er en måte å lagre datasett effektivt\n",
    "* Pandas er *ikke* innebygget og må importeres (og installeres på maskinen du jobber)"
   ]
  },
  {
   "cell_type": "code",
   "execution_count": null,
   "metadata": {
    "slideshow": {
     "slide_type": "fragment"
    }
   },
   "outputs": [],
   "source": [
    "import pandas as pd"
   ]
  },
  {
   "cell_type": "markdown",
   "metadata": {
    "slideshow": {
     "slide_type": "subslide"
    }
   },
   "source": [
    "Første utfordring er alltid å få datasettet sitt på riktig format. Her kan vi laste inn data fra f.eks CSV eller fra regneark. Om vi skal lage fra oppslagsverk i Python kan vi bruke `pd.DataFrame.from_dict`"
   ]
  },
  {
   "cell_type": "code",
   "execution_count": null,
   "metadata": {
    "slideshow": {
     "slide_type": "fragment"
    }
   },
   "outputs": [],
   "source": [
    "import pandas as pd\n",
    "\n",
    "flydata = pd.DataFrame.from_dict(flymodeller)\n",
    "print(flydata)"
   ]
  },
  {
   "cell_type": "markdown",
   "metadata": {
    "slideshow": {
     "slide_type": "fragment"
    }
   },
   "source": [
    "Hvert fly blir nå en kolonne. Men det er langt vanligere å la hvert datapunkt hver en egen rad. La oss prøve på nytt."
   ]
  },
  {
   "cell_type": "markdown",
   "metadata": {
    "slideshow": {
     "slide_type": "subslide"
    }
   },
   "source": [
    "* Hvordan slår vi opp oppførselen til `from_dict`?"
   ]
  },
  {
   "cell_type": "markdown",
   "metadata": {
    "slideshow": {
     "slide_type": "fragment"
    }
   },
   "source": [
    "1. Google oss frem til dokumentasjonen\n",
    "2. Bruke `help(pd.DataFrame.from_dict)`\n",
    "3. Marker funksjonen du vil bruke og trykk `Shift + Tab`. Da dukker dokumentasjonen opp i et pop-up vindu i Jupyter"
   ]
  },
  {
   "cell_type": "code",
   "execution_count": null,
   "metadata": {
    "scrolled": true,
    "slideshow": {
     "slide_type": "subslide"
    }
   },
   "outputs": [],
   "source": [
    "# Kan bruke følgende \n",
    "help(pd.DataFrame.from_dict)"
   ]
  },
  {
   "cell_type": "code",
   "execution_count": null,
   "metadata": {
    "slideshow": {
     "slide_type": "subslide"
    }
   },
   "outputs": [],
   "source": [
    "flydata = pd.DataFrame.from_dict(flymodeller, orient=\"index\")\n",
    "print(flydata)"
   ]
  },
  {
   "cell_type": "code",
   "execution_count": null,
   "metadata": {},
   "outputs": [],
   "source": [
    "print(flydata.mean())"
   ]
  },
  {
   "cell_type": "code",
   "execution_count": null,
   "metadata": {},
   "outputs": [],
   "source": [
    "print(flydata.describe())"
   ]
  },
  {
   "cell_type": "markdown",
   "metadata": {
    "slideshow": {
     "slide_type": "subslide"
    }
   },
   "source": [
    "### Et par andre pandas funksjoner dere lærte om\n",
    "* Du kan hente ut rad basert på navn som for et oppslagsverk, f.eks `flydata[\"B737\"]`\n",
    "* Du kan også hente ut rad basert på tallindeks som følger `flydata.iloc(2)`\n",
    "* Kolonner kan også hentes ut med navn, f.eks `flydata[\"passasjerer\"]`"
   ]
  },
  {
   "cell_type": "code",
   "execution_count": null,
   "metadata": {},
   "outputs": [],
   "source": [
    "print(flydata[\"passasjerer\"])"
   ]
  },
  {
   "cell_type": "markdown",
   "metadata": {
    "slideshow": {
     "slide_type": "slide"
    }
   },
   "source": [
    "# Plotly Express\n",
    "\n",
    "Datavisualiseringer"
   ]
  },
  {
   "cell_type": "markdown",
   "metadata": {
    "slideshow": {
     "slide_type": "subslide"
    }
   },
   "source": [
    "### Hva er egentlig Plotly Express?\n",
    "\n",
    "* *Plotly* er en tilleggspakke til Python som er spesielt laget for å jobbe med *plotting*\n",
    "* *Plotly Express* er et brukergrensesnitt som er laget for å bruke *Plotly* på en enkel og rask måte.\n",
    "* Du kan altså tenke på Plotly *Express* som en forenklet/begrenset versjon av et større rammeverk."
   ]
  },
  {
   "cell_type": "markdown",
   "metadata": {
    "slideshow": {
     "slide_type": "subslide"
    }
   },
   "source": [
    "#### Plotly er ikke den eneste måten å lage visualiseringer med Python\n",
    "* Den mest populære pakken for plotting i Python er `matplotlib` (Mathematical Plotting Library)\n",
    "* Fordelen med Pandas Express er at den er spesielt lagd for å jobbe med pandas dataframes, og det er derfor lagt enklere å plotte store datasett.\n",
    "\n",
    "* Plotly/Matplotlib er altså gode pakker om man ønsker full kontroll og fininnstillinger, men her fokuserer vi på Plotly Express fordi det er raskt og enkelt."
   ]
  },
  {
   "cell_type": "markdown",
   "metadata": {
    "slideshow": {
     "slide_type": "subslide"
    }
   },
   "source": [
    "### Hvordan installere Plotly Express?\n",
    "\n",
    "Før vi kan bruke Plotly Express må vi installere pakken for dette. Avhengig av hvordan du har installert Python kan det være du allerede har den. Hvis ikke kan du prøve å kjøre kommandoen under"
   ]
  },
  {
   "cell_type": "code",
   "execution_count": null,
   "metadata": {
    "slideshow": {
     "slide_type": "fragment"
    }
   },
   "outputs": [],
   "source": [
    "!pip install plotly\n",
    "!pip install \"notebook>=5.3\" \"ipywidgets>=7.5\""
   ]
  },
  {
   "cell_type": "markdown",
   "metadata": {
    "slideshow": {
     "slide_type": "fragment"
    }
   },
   "source": [
    "Hvis dette heller ikke fungerer kan vi installere Plotly igjennom *conda*. Det kan du lese mer om her\n",
    "* https://plotly.com/python/getting-started/\n",
    "* https://docs.anaconda.com/anaconda/user-guide/tasks/install-packages/\n",
    "\n",
    "Vi hjelper gjerne. Spør om det ikke går"
   ]
  },
  {
   "cell_type": "markdown",
   "metadata": {
    "slideshow": {
     "slide_type": "subslide"
    }
   },
   "source": [
    "Du kan sjekke om installasjoner har gått riktig for seg ved å prøve å importere"
   ]
  },
  {
   "cell_type": "code",
   "execution_count": null,
   "metadata": {
    "slideshow": {
     "slide_type": "fragment"
    }
   },
   "outputs": [],
   "source": [
    "import plotly.express as px"
   ]
  },
  {
   "cell_type": "markdown",
   "metadata": {
    "slideshow": {
     "slide_type": "subslide"
    }
   },
   "source": [
    "**Hovedidéen bak Plotly Express er at den tar et helt Pandas dataframe som argument, og så skal vi si hvilken informasjon vi ønsker at den skal vise frem**\n",
    "\n"
   ]
  },
  {
   "cell_type": "code",
   "execution_count": null,
   "metadata": {
    "slideshow": {
     "slide_type": "fragment"
    }
   },
   "outputs": [],
   "source": [
    "# Livekode barplot av flydata her, vil ha navn på x-aksen og vingespenn på y-aksen"
   ]
  },
  {
   "cell_type": "code",
   "execution_count": null,
   "metadata": {
    "scrolled": false,
    "slideshow": {
     "slide_type": "skip"
    }
   },
   "outputs": [],
   "source": [
    "fig = px.bar(flydata, x=\"navn\", y=\"vingespenn\", color=\"navn\")\n",
    "fig.show()"
   ]
  },
  {
   "cell_type": "markdown",
   "metadata": {
    "slideshow": {
     "slide_type": "subslide"
    }
   },
   "source": [
    "Dersom figurene du lager i Jupyter Notebook ikke vises i sin helhet, men har en irriterende scrollbar, kan du skru av dette ved å gå på følgende instilling:\n",
    "* `Cell` > `Output` > `Toggle Scrolling`"
   ]
  },
  {
   "cell_type": "code",
   "execution_count": null,
   "metadata": {
    "slideshow": {
     "slide_type": "subslide"
    }
   },
   "outputs": [],
   "source": [
    "# Livekode et scatterplot av vingespenn mot antall passasjerer"
   ]
  },
  {
   "cell_type": "code",
   "execution_count": null,
   "metadata": {
    "slideshow": {
     "slide_type": "skip"
    }
   },
   "outputs": [],
   "source": [
    "fig = px.scatter(flydata, x='vingespenn', y='passasjerer', hover_name='navn',\n",
    "                 trendline='ols',\n",
    "                 title='Antall passasjerer mot vingespenn for ulike flymodeller')\n",
    "fig.show()"
   ]
  },
  {
   "cell_type": "markdown",
   "metadata": {
    "slideshow": {
     "slide_type": "subslide"
    }
   },
   "source": [
    "For å bruke `trendline`-parameteren, må du installere pakken `statsmodels` om du ikke allerede har den. Dette er pakken som gjør selve den statistiske analysen."
   ]
  },
  {
   "cell_type": "code",
   "execution_count": null,
   "metadata": {},
   "outputs": [],
   "source": [
    "!pip install statsmodels"
   ]
  },
  {
   "cell_type": "markdown",
   "metadata": {
    "slideshow": {
     "slide_type": "subslide"
    }
   },
   "source": [
    "#### Den generelle syntaksen i plotly express er som følger\n",
    "\n",
    "```\n",
    "fig = px.<plottype>(dataframe, <parametere>)\n",
    "fig.show()\n",
    "```\n",
    "\n",
    "* Her er `<plottype>` f.eks `bar`, `scatter`, `line`, `histogram`, `pie`, etc\n",
    "* Her er `<parametere>` informasjon om hvilken informasjon som skal vises frem, og hvordan"
   ]
  },
  {
   "cell_type": "markdown",
   "metadata": {
    "slideshow": {
     "slide_type": "subslide"
    }
   },
   "source": [
    "* Når vi lager et plot på denne måten vil `fig` være en graf-variabel, som er en type Plotly objekt. \n",
    "* Når vi jobber med Plotly Express gjør vi stort sett ingen direkte operasjoner på denne, med unntak av `show`\n",
    "* Om vi kan mer Plotly er det mulig å gjøre finjusteringer på plottet direkte på `fig`-variabelen, f.eks sette navn på aksene som følger\n"
   ]
  },
  {
   "cell_type": "code",
   "execution_count": null,
   "metadata": {
    "slideshow": {
     "slide_type": "fragment"
    }
   },
   "outputs": [],
   "source": [
    "fig = px.scatter(flydata, x='vingespenn', y='passasjerer', hover_name='navn',\n",
    "                 trendline='ols',\n",
    "                 title='Antall passasjerer mot vingespenn for ulike flymodeller')\n",
    "\n",
    "fig.update_xaxes(title=\"Vingespenn i meter\")\n",
    "fig.update_yaxes(title=\"Maks antall passasjerer\")\n",
    "fig.show()"
   ]
  },
  {
   "cell_type": "markdown",
   "metadata": {},
   "source": [
    "### La oss gå over til et litt større og mer spennende datasett\n",
    "\n",
    "Plotly Express kommer med en håndfull innebygde dataset man kan bruke for å leke seg litt, øve eller vise eksempler med. De eksisterende datasettene er\n",
    "\n",
    "* `px.data.carshare()` \n",
    "* `px.data.election()`\n",
    "* `px.data.election_geojson()`\n",
    "* `px.data.gapminder()`\n",
    "* `px.data.iris()`\n",
    "* `px.data.tips()`\n",
    "* `px.data.wind()`\n",
    "\n",
    "Dette er funksjoner vi kan kalle på for å få en kopi av et Pandas `DataFrame`."
   ]
  },
  {
   "cell_type": "markdown",
   "metadata": {
    "slideshow": {
     "slide_type": "subslide"
    }
   },
   "source": [
    "### La oss utforske gapminder\n",
    "\n",
    "* Et kjent datasett om forventet levealder og bruttonasjonalprodukt for en rekke land over tid\n"
   ]
  },
  {
   "cell_type": "code",
   "execution_count": null,
   "metadata": {
    "slideshow": {
     "slide_type": "fragment"
    }
   },
   "outputs": [],
   "source": [
    "gapminder = px.data.gapminder()\n",
    "gapminder.head(3)"
   ]
  },
  {
   "cell_type": "code",
   "execution_count": 8,
   "metadata": {
    "slideshow": {
     "slide_type": "subslide"
    }
   },
   "outputs": [],
   "source": [
    "# Live-kode et scatterplot av lifeExp mot gdpPercap (bruk trendline lowess)"
   ]
  },
  {
   "cell_type": "code",
   "execution_count": 9,
   "metadata": {
    "slideshow": {
     "slide_type": "skip"
    }
   },
   "outputs": [
    {
     "ename": "NameError",
     "evalue": "name 'px' is not defined",
     "output_type": "error",
     "traceback": [
      "\u001b[0;31m---------------------------------------------------------------------------\u001b[0m",
      "\u001b[0;31mNameError\u001b[0m                                 Traceback (most recent call last)",
      "\u001b[0;32m<ipython-input-9-ede90c99ac48>\u001b[0m in \u001b[0;36m<module>\u001b[0;34m\u001b[0m\n\u001b[0;32m----> 1\u001b[0;31m fig = px.scatter(gapminder, x=\"gdpPercap\", y=\"lifeExp\",\n\u001b[0m\u001b[1;32m      2\u001b[0m                  \u001b[0mhover_data\u001b[0m\u001b[0;34m=\u001b[0m\u001b[0;34m[\u001b[0m\u001b[0;34m'country'\u001b[0m\u001b[0;34m,\u001b[0m \u001b[0;34m'year'\u001b[0m\u001b[0;34m]\u001b[0m\u001b[0;34m,\u001b[0m\u001b[0;34m\u001b[0m\u001b[0;34m\u001b[0m\u001b[0m\n\u001b[1;32m      3\u001b[0m                  \u001b[0mcolor\u001b[0m\u001b[0;34m=\u001b[0m\u001b[0;34m'year'\u001b[0m\u001b[0;34m,\u001b[0m\u001b[0;34m\u001b[0m\u001b[0;34m\u001b[0m\u001b[0m\n\u001b[1;32m      4\u001b[0m                  \u001b[0mtitle\u001b[0m\u001b[0;34m=\u001b[0m\u001b[0;34m\"Levealder mot BNP for en rekke ulike land over tid\"\u001b[0m\u001b[0;34m,\u001b[0m\u001b[0;34m\u001b[0m\u001b[0;34m\u001b[0m\u001b[0m\n\u001b[1;32m      5\u001b[0m                  \u001b[0mtrendline\u001b[0m\u001b[0;34m=\u001b[0m\u001b[0;34m'lowess'\u001b[0m\u001b[0;34m,\u001b[0m\u001b[0;34m\u001b[0m\u001b[0;34m\u001b[0m\u001b[0m\n",
      "\u001b[0;31mNameError\u001b[0m: name 'px' is not defined"
     ]
    }
   ],
   "source": [
    "fig = px.scatter(gapminder, x=\"gdpPercap\", y=\"lifeExp\",\n",
    "                 hover_data=['country', 'year'],\n",
    "                 color='year',\n",
    "                 title=\"Levealder mot BNP for en rekke ulike land over tid\",\n",
    "                 trendline='lowess',\n",
    "                 range_x=(0, 50000))\n",
    "fig.show()"
   ]
  },
  {
   "cell_type": "markdown",
   "metadata": {
    "slideshow": {
     "slide_type": "subslide"
    }
   },
   "source": [
    "#### Figuren er rotete fordi vi plotter data fra mange ulike år sammen. \n",
    "\n",
    "* Forslag 1: Vi kan begrense oss til ett år\n",
    "* Forslag 2: Vi kan begrense oss til ett land\n",
    "* Forslag 3: Vi kan lage en animasjon"
   ]
  },
  {
   "cell_type": "markdown",
   "metadata": {
    "slideshow": {
     "slide_type": "subslide"
    }
   },
   "source": [
    "#### Forslag 1: Begrense oss til ett år"
   ]
  },
  {
   "cell_type": "code",
   "execution_count": null,
   "metadata": {
    "slideshow": {
     "slide_type": "subslide"
    }
   },
   "outputs": [],
   "source": [
    "# Live-kode å trekke ut 2002 data"
   ]
  },
  {
   "cell_type": "code",
   "execution_count": null,
   "metadata": {
    "slideshow": {
     "slide_type": "skip"
    }
   },
   "outputs": [],
   "source": [
    "gapminder2002 = gapminder.query(\"year == 2002\")\n",
    "gapminder2002.head(5)"
   ]
  },
  {
   "cell_type": "code",
   "execution_count": null,
   "metadata": {
    "slideshow": {
     "slide_type": "subslide"
    }
   },
   "outputs": [],
   "source": [
    "# Live-kode scatterplot av gapminder2002 med farge/størrelse/hover"
   ]
  },
  {
   "cell_type": "code",
   "execution_count": null,
   "metadata": {
    "slideshow": {
     "slide_type": "subslide"
    }
   },
   "outputs": [],
   "source": [
    "fig = px.scatter(gapminder2002, x='gdpPercap', y='lifeExp', color='continent',\n",
    "                 size='pop', size_max=60, hover_name='country')\n",
    "fig.show()"
   ]
  },
  {
   "cell_type": "markdown",
   "metadata": {
    "slideshow": {
     "slide_type": "subslide"
    }
   },
   "source": [
    "#### Forslag 2: Fokuser på ett land\n"
   ]
  },
  {
   "cell_type": "code",
   "execution_count": null,
   "metadata": {
    "slideshow": {
     "slide_type": "subslide"
    }
   },
   "outputs": [],
   "source": [
    "norway = gapminder.query(\"country == 'Norway'\")\n",
    "norway.head(5)"
   ]
  },
  {
   "cell_type": "code",
   "execution_count": null,
   "metadata": {
    "slideshow": {
     "slide_type": "subslide"
    }
   },
   "outputs": [],
   "source": [
    "fig = px.line(norway, x='year', y='lifeExp')\n",
    "fig.show()"
   ]
  },
  {
   "cell_type": "code",
   "execution_count": null,
   "metadata": {
    "slideshow": {
     "slide_type": "subslide"
    }
   },
   "outputs": [],
   "source": [
    "fig2 = px.scatter(norway, x='gdpPercap', y='lifeExp', color='year', trendline='ols')\n",
    "fig2.show()"
   ]
  },
  {
   "cell_type": "markdown",
   "metadata": {
    "slideshow": {
     "slide_type": "subslide"
    }
   },
   "source": [
    "#### Forslag 3: Animere plottet"
   ]
  },
  {
   "cell_type": "code",
   "execution_count": null,
   "metadata": {
    "slideshow": {
     "slide_type": "subslide"
    }
   },
   "outputs": [],
   "source": [
    "fig = px.scatter(gapminder, x='gdpPercap', y='lifeExp', color='continent',\n",
    "                 size='pop', size_max=60, hover_name='country', animation_frame='year',\n",
    "                 range_x=(200, 50000), range_y=(20, 90), log_x='True')\n",
    "fig.show()"
   ]
  },
  {
   "cell_type": "markdown",
   "metadata": {
    "slideshow": {
     "slide_type": "subslide"
    }
   },
   "source": [
    "#### Kjapp oppsummering før dere får prøve dere litt\n",
    "\n",
    "**Grunnidéen er at Plotly Express tar en hel `DataFrame`, og så instruerer du hvilke informasjon som skal vises frem**\n",
    "\n",
    "* Steg 1: Velg hvilken *type* plot du ønkser (`scatter`, `line`, `bar`, etc.)\n",
    "* Steg 2: Instruer funksjonen hvilke data (hvilke kolonner) som skal illustreres langs ulike akser\n",
    "* Steg 3: Gjør kosmetiske endringer, etc\n",
    "\n",
    "Med akser mener vi her måte å vise frem informasjon på:\n",
    "* x-aksen, y-aksen, størrelse, farge, tid (animasjon), hover-box, etc."
   ]
  },
  {
   "cell_type": "markdown",
   "metadata": {
    "slideshow": {
     "slide_type": "slide"
    }
   },
   "source": [
    "### Del 2 - Litt mer avanserte eksempler\n",
    "\n",
    "Det finnes en lang rekke ulike type plots og muligheter med Plotly Express\n",
    "\n",
    "Du kan finne en oversikt med gode eksempler på \n",
    "* https://plotly.com/python/plotly-express/\n",
    "* Dokumentasjon er også god for å se alle ulike parametre/justeringer\n"
   ]
  },
  {
   "cell_type": "markdown",
   "metadata": {
    "slideshow": {
     "slide_type": "subslide"
    }
   },
   "source": [
    "I resten av denne gjennomgangen viser vi et utvalg litt mer avanserte muligheter med Plotly Express. Her er ikke målet at du skal huske eller forstå alle de ulike mulighetene vi viser frem, men mer gi deg et lite overbilde av muligheter."
   ]
  },
  {
   "cell_type": "markdown",
   "metadata": {
    "slideshow": {
     "slide_type": "subslide"
    }
   },
   "source": [
    "### Eksempel: `scattermatrix`\n",
    "\n",
    "Plotter en matrise av scatterplot, med alle ulike kombinasjoner av datakolonner."
   ]
  },
  {
   "cell_type": "code",
   "execution_count": null,
   "metadata": {
    "scrolled": true,
    "slideshow": {
     "slide_type": "fragment"
    }
   },
   "outputs": [],
   "source": [
    "iris = px.data.iris()\n",
    "\n",
    "fig = px.scatter_matrix(iris)\n",
    "fig.show()"
   ]
  },
  {
   "cell_type": "markdown",
   "metadata": {
    "slideshow": {
     "slide_type": "subslide"
    }
   },
   "source": [
    "Veldig mye informasjon, men her kan vi bruke `dimensions` for å spesifisere hvilke data vi er interessert i "
   ]
  },
  {
   "cell_type": "code",
   "execution_count": null,
   "metadata": {
    "scrolled": true,
    "slideshow": {
     "slide_type": "fragment"
    }
   },
   "outputs": [],
   "source": [
    "fig = px.scatter_matrix(iris, color='species',\n",
    "                        dimensions=['sepal_width', 'sepal_length', 'petal_width', 'petal_length'])\n",
    "fig.update_traces(diagonal_visible=False)\n",
    "fig.show()"
   ]
  },
  {
   "cell_type": "markdown",
   "metadata": {
    "slideshow": {
     "slide_type": "subslide"
    }
   },
   "source": [
    "Her kan du bruke interaktiviteten til å velge et utvalg av datapunkter i ett scatterplott, så vil de samme datapunktene vises i de andre plottene "
   ]
  },
  {
   "cell_type": "markdown",
   "metadata": {
    "slideshow": {
     "slide_type": "subslide"
    }
   },
   "source": [
    "### Eksempel: `px.parallel_coordinates`\n",
    "\n",
    "Stilig plot-type som viser en sammenheng mellom ulike datakolonner"
   ]
  },
  {
   "cell_type": "code",
   "execution_count": null,
   "metadata": {
    "slideshow": {
     "slide_type": "subslide"
    }
   },
   "outputs": [],
   "source": [
    "fig = px.parallel_coordinates(iris, color='species_id',\n",
    "                              dimensions=['sepal_width', 'sepal_length',\n",
    "                                          'petal_width', 'petal_length'])\n",
    "fig.show()"
   ]
  },
  {
   "cell_type": "markdown",
   "metadata": {
    "slideshow": {
     "slide_type": "subslide"
    }
   },
   "source": [
    "Kanskje ikke den mest nyttige visualiseringen for dette datasettet"
   ]
  },
  {
   "cell_type": "markdown",
   "metadata": {
    "slideshow": {
     "slide_type": "subslide"
    }
   },
   "source": [
    "### Eksempel: Sunburst\n",
    "\n",
    "Et *sunburst* plot er en slags utvidelse av et paidiagram, der vi kan spesifisere data i over og underkategorier. Som et eksempel kan vi gå tilbake til Gapminder-datasettet og dele inn i kontinenter og land\n"
   ]
  },
  {
   "cell_type": "code",
   "execution_count": null,
   "metadata": {
    "slideshow": {
     "slide_type": "subslide"
    }
   },
   "outputs": [],
   "source": [
    "data = px.data.gapminder().query(\"year == 2007\")\n",
    "px.sunburst(data, path=[\"continent\", \"country\"], values='pop', hover_name=\"country\")"
   ]
  },
  {
   "cell_type": "markdown",
   "metadata": {
    "slideshow": {
     "slide_type": "subslide"
    }
   },
   "source": [
    "Her kan du klikke på et kontinent for å se på kun det kontinenten. Klikker du på nytt går du tilbake."
   ]
  },
  {
   "cell_type": "code",
   "execution_count": null,
   "metadata": {
    "slideshow": {
     "slide_type": "subslide"
    }
   },
   "outputs": [],
   "source": [
    "data = px.data.gapminder().query(\"year == 2007\")\n",
    "px.sunburst(data, path=[\"continent\", \"country\"], values='pop',\n",
    "            color='lifeExp', hover_name=\"country\")"
   ]
  },
  {
   "cell_type": "markdown",
   "metadata": {
    "slideshow": {
     "slide_type": "subslide"
    }
   },
   "source": [
    "#### Eksempel: Treemap\n",
    "\n",
    "Et alternativ til Sunburst som viser informasjonen i form av bokser istedenfor som en sirkel."
   ]
  },
  {
   "cell_type": "code",
   "execution_count": null,
   "metadata": {
    "slideshow": {
     "slide_type": "fragment"
    }
   },
   "outputs": [],
   "source": [
    "data = px.data.gapminder().query(\"year == 2007\")\n",
    "\n",
    "px.treemap(data, path=[\"continent\", \"country\"], values='pop',\n",
    "            color='gdpPercap', hover_name=\"country\")"
   ]
  },
  {
   "cell_type": "markdown",
   "metadata": {
    "slideshow": {
     "slide_type": "subslide"
    }
   },
   "source": [
    "### Eksempel: Kartplott\n",
    "\n",
    "* Her er det mange muligheter, og det blir fort litt komplisert\n",
    "* Se fler eksempler på: https://plotly.com/python/maps/\n",
    "* Merk at noen av eksemplene krever at du lager en bruker på mapbox.com, så henter Plotly kartdata automatisk bak kulissene."
   ]
  },
  {
   "cell_type": "markdown",
   "metadata": {
    "slideshow": {
     "slide_type": "subslide"
    }
   },
   "source": [
    "### Eksempel: Plotte gapminder på et verdenskart\n",
    "\n",
    "* Gapminder inneholder ISO-koder for hvert land, som gjør at vi kan koble datapunkter til kartddata.\n",
    "* Vi kan bruke en `choropleth`, et fancy Gresk ord for et kart som fargelegger teritorier for å vise numerisk data"
   ]
  },
  {
   "cell_type": "code",
   "execution_count": null,
   "metadata": {
    "slideshow": {
     "slide_type": "subslide"
    }
   },
   "outputs": [],
   "source": [
    "data = px.data.gapminder().query(\"year == 2007\")\n",
    "\n",
    "fig = px.choropleth(data, locations='iso_alpha', hover_name=\"country\",\n",
    "              color='lifeExp', hover_data=data.columns, projection=\"natural earth\")\n",
    "fig.show()"
   ]
  },
  {
   "cell_type": "markdown",
   "metadata": {},
   "source": [
    "#### Eksempel: Choropleth med animasjon"
   ]
  },
  {
   "cell_type": "code",
   "execution_count": null,
   "metadata": {
    "slideshow": {
     "slide_type": "subslide"
    }
   },
   "outputs": [],
   "source": [
    "data = px.data.gapminder()\n",
    "\n",
    "fig = px.choropleth(data, locations='iso_alpha', hover_name=\"country\",\n",
    "              color='lifeExp', hover_data=data.columns, projection=\"natural earth\",\n",
    "                   animation_frame=\"year\", range_color=(40, 80))\n",
    "fig.show()"
   ]
  },
  {
   "cell_type": "markdown",
   "metadata": {
    "slideshow": {
     "slide_type": "subslide"
    }
   },
   "source": [
    "#### Eksempel: Scatter Mapbox\n",
    "\n",
    "* Plottype som kan tegne geografisk (GPS) data som punkter på et kart.\n",
    "* Som eksempel henter vi ned data fra: https://oslobysykkel.no/apne-data"
   ]
  },
  {
   "cell_type": "code",
   "execution_count": null,
   "metadata": {
    "slideshow": {
     "slide_type": "subslide"
    }
   },
   "outputs": [],
   "source": [
    "# Laster inn all data fra April\n",
    "bysykkel = pd.read_csv(\"bysykkelturer_april.csv\")\n",
    "\n",
    "# Tar gjennomsnittlig data per statsjon (OBS, sum vil ikke fungere direkte fordi GPS-posisjonene blir summert)\n",
    "stasjonsdata = bysykkel.groupby(\"start_station_name\").mean()\n",
    "stasjonsdata[\"duration\"] /= 60\n",
    "stasjonsdata.head()"
   ]
  },
  {
   "cell_type": "code",
   "execution_count": null,
   "metadata": {},
   "outputs": [],
   "source": [
    "fig = px.scatter_mapbox(stasjonsdata, lat=\"start_station_latitude\", lon=\"start_station_longitude\",\n",
    "                        color='duration', size='duration', size_max=10, zoom=11,\n",
    "                        mapbox_style=\"carto-positron\", \n",
    "                        title=\"Gjennomsnittlig lånetid for bysykler i april 2021\",\n",
    "                       labels={'duration': 'Lånetid (minutter)'})\n",
    "fig.show()"
   ]
  }
 ],
 "metadata": {
  "celltoolbar": "Slideshow",
  "kernelspec": {
   "display_name": "Python 3",
   "language": "python",
   "name": "python3"
  },
  "language_info": {
   "codemirror_mode": {
    "name": "ipython",
    "version": 3
   },
   "file_extension": ".py",
   "mimetype": "text/x-python",
   "name": "python",
   "nbconvert_exporter": "python",
   "pygments_lexer": "ipython3",
   "version": "3.6.9"
  }
 },
 "nbformat": 4,
 "nbformat_minor": 2
}
